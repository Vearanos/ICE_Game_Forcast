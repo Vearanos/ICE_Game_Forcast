{
 "cells": [
  {
   "cell_type": "code",
   "execution_count": null,
   "metadata": {},
   "outputs": [],
   "source": []
  },
  {
   "cell_type": "code",
   "execution_count": 111,
   "metadata": {},
   "outputs": [
    {
     "name": "stdout",
     "output_type": "stream",
     "text": [
      "<class 'pandas.core.frame.DataFrame'>\n",
      "RangeIndex: 16715 entries, 0 to 16714\n",
      "Data columns (total 11 columns):\n",
      " #   Column           Non-Null Count  Dtype  \n",
      "---  ------           --------------  -----  \n",
      " 0   Name             16713 non-null  object \n",
      " 1   Platform         16715 non-null  object \n",
      " 2   Year_of_Release  16446 non-null  float64\n",
      " 3   Genre            16713 non-null  object \n",
      " 4   NA_sales         16715 non-null  float64\n",
      " 5   EU_sales         16715 non-null  float64\n",
      " 6   JP_sales         16715 non-null  float64\n",
      " 7   Other_sales      16715 non-null  float64\n",
      " 8   Critic_Score     8137 non-null   float64\n",
      " 9   User_Score       10014 non-null  object \n",
      " 10  Rating           9949 non-null   object \n",
      "dtypes: float64(6), object(5)\n",
      "memory usage: 1.4+ MB\n"
     ]
    },
    {
     "data": {
      "text/html": [
       "<div>\n",
       "<style scoped>\n",
       "    .dataframe tbody tr th:only-of-type {\n",
       "        vertical-align: middle;\n",
       "    }\n",
       "\n",
       "    .dataframe tbody tr th {\n",
       "        vertical-align: top;\n",
       "    }\n",
       "\n",
       "    .dataframe thead th {\n",
       "        text-align: right;\n",
       "    }\n",
       "</style>\n",
       "<table border=\"1\" class=\"dataframe\">\n",
       "  <thead>\n",
       "    <tr style=\"text-align: right;\">\n",
       "      <th></th>\n",
       "      <th>Name</th>\n",
       "      <th>Platform</th>\n",
       "      <th>Year_of_Release</th>\n",
       "      <th>Genre</th>\n",
       "      <th>NA_sales</th>\n",
       "      <th>EU_sales</th>\n",
       "      <th>JP_sales</th>\n",
       "      <th>Other_sales</th>\n",
       "      <th>Critic_Score</th>\n",
       "      <th>User_Score</th>\n",
       "      <th>Rating</th>\n",
       "    </tr>\n",
       "  </thead>\n",
       "  <tbody>\n",
       "    <tr>\n",
       "      <th>0</th>\n",
       "      <td>Wii Sports</td>\n",
       "      <td>Wii</td>\n",
       "      <td>2006.0</td>\n",
       "      <td>Sports</td>\n",
       "      <td>41.36</td>\n",
       "      <td>28.96</td>\n",
       "      <td>3.77</td>\n",
       "      <td>8.45</td>\n",
       "      <td>76.0</td>\n",
       "      <td>8</td>\n",
       "      <td>E</td>\n",
       "    </tr>\n",
       "    <tr>\n",
       "      <th>1</th>\n",
       "      <td>Super Mario Bros.</td>\n",
       "      <td>NES</td>\n",
       "      <td>1985.0</td>\n",
       "      <td>Platform</td>\n",
       "      <td>29.08</td>\n",
       "      <td>3.58</td>\n",
       "      <td>6.81</td>\n",
       "      <td>0.77</td>\n",
       "      <td>NaN</td>\n",
       "      <td>NaN</td>\n",
       "      <td>NaN</td>\n",
       "    </tr>\n",
       "    <tr>\n",
       "      <th>2</th>\n",
       "      <td>Mario Kart Wii</td>\n",
       "      <td>Wii</td>\n",
       "      <td>2008.0</td>\n",
       "      <td>Racing</td>\n",
       "      <td>15.68</td>\n",
       "      <td>12.76</td>\n",
       "      <td>3.79</td>\n",
       "      <td>3.29</td>\n",
       "      <td>82.0</td>\n",
       "      <td>8.3</td>\n",
       "      <td>E</td>\n",
       "    </tr>\n",
       "    <tr>\n",
       "      <th>3</th>\n",
       "      <td>Wii Sports Resort</td>\n",
       "      <td>Wii</td>\n",
       "      <td>2009.0</td>\n",
       "      <td>Sports</td>\n",
       "      <td>15.61</td>\n",
       "      <td>10.93</td>\n",
       "      <td>3.28</td>\n",
       "      <td>2.95</td>\n",
       "      <td>80.0</td>\n",
       "      <td>8</td>\n",
       "      <td>E</td>\n",
       "    </tr>\n",
       "    <tr>\n",
       "      <th>4</th>\n",
       "      <td>Pokemon Red/Pokemon Blue</td>\n",
       "      <td>GB</td>\n",
       "      <td>1996.0</td>\n",
       "      <td>Role-Playing</td>\n",
       "      <td>11.27</td>\n",
       "      <td>8.89</td>\n",
       "      <td>10.22</td>\n",
       "      <td>1.00</td>\n",
       "      <td>NaN</td>\n",
       "      <td>NaN</td>\n",
       "      <td>NaN</td>\n",
       "    </tr>\n",
       "  </tbody>\n",
       "</table>\n",
       "</div>"
      ],
      "text/plain": [
       "                       Name Platform  Year_of_Release         Genre  NA_sales  \\\n",
       "0                Wii Sports      Wii           2006.0        Sports     41.36   \n",
       "1         Super Mario Bros.      NES           1985.0      Platform     29.08   \n",
       "2            Mario Kart Wii      Wii           2008.0        Racing     15.68   \n",
       "3         Wii Sports Resort      Wii           2009.0        Sports     15.61   \n",
       "4  Pokemon Red/Pokemon Blue       GB           1996.0  Role-Playing     11.27   \n",
       "\n",
       "   EU_sales  JP_sales  Other_sales  Critic_Score User_Score Rating  \n",
       "0     28.96      3.77         8.45          76.0          8      E  \n",
       "1      3.58      6.81         0.77           NaN        NaN    NaN  \n",
       "2     12.76      3.79         3.29          82.0        8.3      E  \n",
       "3     10.93      3.28         2.95          80.0          8      E  \n",
       "4      8.89     10.22         1.00           NaN        NaN    NaN  "
      ]
     },
     "metadata": {},
     "output_type": "display_data"
    }
   ],
   "source": [
    "# Imports\n",
    "\n",
    "import pandas as pd\n",
    "import numpy as np\n",
    "import matplotlib.pyplot as plt\n",
    "import seaborn as sns\n",
    "import plotly.express as px\n",
    "\n",
    "# Load the data\n",
    "\n",
    "\n",
    "games = pd.read_csv(r\"C:\\Users\\Summe\\ICE_Game_Forcast\\games.csv\")\n",
    "\n",
    "# Dispalay the first few rows of the data\n",
    "\n",
    "games.isnull().sum()\n",
    "games.info()\n",
    "display(games.head())"
   ]
  },
  {
   "cell_type": "markdown",
   "metadata": {},
   "source": [
    "# Initial overview of data\n",
    "\n",
    "Data needs to be cleaned in the following ways\n",
    "\n",
    "1. change to lower case. Python is case specific, keeping everything lowercase can prevent issues in code. \n",
    "2. make sure any spaces are changed to \"_\". Spaces need to be \"_\" for proper code usage, it can be difficult to see if any columns have a space in front or behind, so adding this will make it obvious for code usage later on.\n",
    "3. correct Dtypes (i.e year_of_release -> Int64). This is done to prevent errors in Analysis later on.\n",
    "4. there are several colums with missing data (remove/replace NaN values). This data could be missing due to the year_of_relese, many of the critic_score, user_score, and rating are on older games likely due to this information not being collected at the time. \n",
    "5. remove excess NaN value rows. This is to remove any rows that will not provide any significant information to our Analysis.\n",
    "5. add an additional colum called \"total_sales\" since the goal of analysis is to determine which games are worth advertising."
   ]
  },
  {
   "cell_type": "code",
   "execution_count": 112,
   "metadata": {},
   "outputs": [
    {
     "data": {
      "text/html": [
       "<div>\n",
       "<style scoped>\n",
       "    .dataframe tbody tr th:only-of-type {\n",
       "        vertical-align: middle;\n",
       "    }\n",
       "\n",
       "    .dataframe tbody tr th {\n",
       "        vertical-align: top;\n",
       "    }\n",
       "\n",
       "    .dataframe thead th {\n",
       "        text-align: right;\n",
       "    }\n",
       "</style>\n",
       "<table border=\"1\" class=\"dataframe\">\n",
       "  <thead>\n",
       "    <tr style=\"text-align: right;\">\n",
       "      <th></th>\n",
       "      <th>name</th>\n",
       "      <th>platform</th>\n",
       "      <th>year_of_release</th>\n",
       "      <th>genre</th>\n",
       "      <th>na_sales</th>\n",
       "      <th>eu_sales</th>\n",
       "      <th>jp_sales</th>\n",
       "      <th>other_sales</th>\n",
       "      <th>critic_score</th>\n",
       "      <th>user_score</th>\n",
       "      <th>rating</th>\n",
       "    </tr>\n",
       "  </thead>\n",
       "  <tbody>\n",
       "    <tr>\n",
       "      <th>0</th>\n",
       "      <td>Wii Sports</td>\n",
       "      <td>Wii</td>\n",
       "      <td>2006.0</td>\n",
       "      <td>Sports</td>\n",
       "      <td>41.36</td>\n",
       "      <td>28.96</td>\n",
       "      <td>3.77</td>\n",
       "      <td>8.45</td>\n",
       "      <td>76.0</td>\n",
       "      <td>8</td>\n",
       "      <td>E</td>\n",
       "    </tr>\n",
       "    <tr>\n",
       "      <th>1</th>\n",
       "      <td>Super Mario Bros.</td>\n",
       "      <td>NES</td>\n",
       "      <td>1985.0</td>\n",
       "      <td>Platform</td>\n",
       "      <td>29.08</td>\n",
       "      <td>3.58</td>\n",
       "      <td>6.81</td>\n",
       "      <td>0.77</td>\n",
       "      <td>NaN</td>\n",
       "      <td>NaN</td>\n",
       "      <td>NaN</td>\n",
       "    </tr>\n",
       "    <tr>\n",
       "      <th>2</th>\n",
       "      <td>Mario Kart Wii</td>\n",
       "      <td>Wii</td>\n",
       "      <td>2008.0</td>\n",
       "      <td>Racing</td>\n",
       "      <td>15.68</td>\n",
       "      <td>12.76</td>\n",
       "      <td>3.79</td>\n",
       "      <td>3.29</td>\n",
       "      <td>82.0</td>\n",
       "      <td>8.3</td>\n",
       "      <td>E</td>\n",
       "    </tr>\n",
       "    <tr>\n",
       "      <th>3</th>\n",
       "      <td>Wii Sports Resort</td>\n",
       "      <td>Wii</td>\n",
       "      <td>2009.0</td>\n",
       "      <td>Sports</td>\n",
       "      <td>15.61</td>\n",
       "      <td>10.93</td>\n",
       "      <td>3.28</td>\n",
       "      <td>2.95</td>\n",
       "      <td>80.0</td>\n",
       "      <td>8</td>\n",
       "      <td>E</td>\n",
       "    </tr>\n",
       "    <tr>\n",
       "      <th>4</th>\n",
       "      <td>Pokemon Red/Pokemon Blue</td>\n",
       "      <td>GB</td>\n",
       "      <td>1996.0</td>\n",
       "      <td>Role-Playing</td>\n",
       "      <td>11.27</td>\n",
       "      <td>8.89</td>\n",
       "      <td>10.22</td>\n",
       "      <td>1.00</td>\n",
       "      <td>NaN</td>\n",
       "      <td>NaN</td>\n",
       "      <td>NaN</td>\n",
       "    </tr>\n",
       "  </tbody>\n",
       "</table>\n",
       "</div>"
      ],
      "text/plain": [
       "                       name platform  year_of_release         genre  na_sales  \\\n",
       "0                Wii Sports      Wii           2006.0        Sports     41.36   \n",
       "1         Super Mario Bros.      NES           1985.0      Platform     29.08   \n",
       "2            Mario Kart Wii      Wii           2008.0        Racing     15.68   \n",
       "3         Wii Sports Resort      Wii           2009.0        Sports     15.61   \n",
       "4  Pokemon Red/Pokemon Blue       GB           1996.0  Role-Playing     11.27   \n",
       "\n",
       "   eu_sales  jp_sales  other_sales  critic_score user_score rating  \n",
       "0     28.96      3.77         8.45          76.0          8      E  \n",
       "1      3.58      6.81         0.77           NaN        NaN    NaN  \n",
       "2     12.76      3.79         3.29          82.0        8.3      E  \n",
       "3     10.93      3.28         2.95          80.0          8      E  \n",
       "4      8.89     10.22         1.00           NaN        NaN    NaN  "
      ]
     },
     "metadata": {},
     "output_type": "display_data"
    }
   ],
   "source": [
    "# change to lower case\n",
    "\n",
    "games.columns = games.columns.str.lower()\n",
    "\n",
    "# check for spaces in the column names\n",
    "\n",
    "games.columns = games.columns.str.replace(' ', '_')\n",
    "\n",
    "display(games.head())"
   ]
  },
  {
   "cell_type": "code",
   "execution_count": 113,
   "metadata": {},
   "outputs": [
    {
     "name": "stdout",
     "output_type": "stream",
     "text": [
      "<class 'pandas.core.frame.DataFrame'>\n",
      "Index: 10021 entries, 0 to 16706\n",
      "Data columns (total 12 columns):\n",
      " #   Column           Non-Null Count  Dtype  \n",
      "---  ------           --------------  -----  \n",
      " 0   name             10021 non-null  object \n",
      " 1   platform         10021 non-null  object \n",
      " 2   year_of_release  9864 non-null   Int64  \n",
      " 3   genre            10021 non-null  object \n",
      " 4   na_sales         10021 non-null  float64\n",
      " 5   eu_sales         10021 non-null  float64\n",
      " 6   jp_sales         10021 non-null  float64\n",
      " 7   other_sales      10021 non-null  float64\n",
      " 8   critic_score     8137 non-null   float64\n",
      " 9   user_score       7589 non-null   float64\n",
      " 10  rating           9923 non-null   object \n",
      " 11  total_sales      10021 non-null  float64\n",
      "dtypes: Int64(1), float64(7), object(4)\n",
      "memory usage: 1.0+ MB\n"
     ]
    },
    {
     "data": {
      "text/html": [
       "<div>\n",
       "<style scoped>\n",
       "    .dataframe tbody tr th:only-of-type {\n",
       "        vertical-align: middle;\n",
       "    }\n",
       "\n",
       "    .dataframe tbody tr th {\n",
       "        vertical-align: top;\n",
       "    }\n",
       "\n",
       "    .dataframe thead th {\n",
       "        text-align: right;\n",
       "    }\n",
       "</style>\n",
       "<table border=\"1\" class=\"dataframe\">\n",
       "  <thead>\n",
       "    <tr style=\"text-align: right;\">\n",
       "      <th></th>\n",
       "      <th>name</th>\n",
       "      <th>platform</th>\n",
       "      <th>year_of_release</th>\n",
       "      <th>genre</th>\n",
       "      <th>na_sales</th>\n",
       "      <th>eu_sales</th>\n",
       "      <th>jp_sales</th>\n",
       "      <th>other_sales</th>\n",
       "      <th>critic_score</th>\n",
       "      <th>user_score</th>\n",
       "      <th>rating</th>\n",
       "      <th>total_sales</th>\n",
       "    </tr>\n",
       "  </thead>\n",
       "  <tbody>\n",
       "    <tr>\n",
       "      <th>0</th>\n",
       "      <td>Wii Sports</td>\n",
       "      <td>Wii</td>\n",
       "      <td>2006</td>\n",
       "      <td>Sports</td>\n",
       "      <td>41.36</td>\n",
       "      <td>28.96</td>\n",
       "      <td>3.77</td>\n",
       "      <td>8.45</td>\n",
       "      <td>76.0</td>\n",
       "      <td>8.0</td>\n",
       "      <td>E</td>\n",
       "      <td>82.54</td>\n",
       "    </tr>\n",
       "    <tr>\n",
       "      <th>2</th>\n",
       "      <td>Mario Kart Wii</td>\n",
       "      <td>Wii</td>\n",
       "      <td>2008</td>\n",
       "      <td>Racing</td>\n",
       "      <td>15.68</td>\n",
       "      <td>12.76</td>\n",
       "      <td>3.79</td>\n",
       "      <td>3.29</td>\n",
       "      <td>82.0</td>\n",
       "      <td>8.3</td>\n",
       "      <td>E</td>\n",
       "      <td>35.52</td>\n",
       "    </tr>\n",
       "    <tr>\n",
       "      <th>3</th>\n",
       "      <td>Wii Sports Resort</td>\n",
       "      <td>Wii</td>\n",
       "      <td>2009</td>\n",
       "      <td>Sports</td>\n",
       "      <td>15.61</td>\n",
       "      <td>10.93</td>\n",
       "      <td>3.28</td>\n",
       "      <td>2.95</td>\n",
       "      <td>80.0</td>\n",
       "      <td>8.0</td>\n",
       "      <td>E</td>\n",
       "      <td>32.77</td>\n",
       "    </tr>\n",
       "    <tr>\n",
       "      <th>6</th>\n",
       "      <td>New Super Mario Bros.</td>\n",
       "      <td>DS</td>\n",
       "      <td>2006</td>\n",
       "      <td>Platform</td>\n",
       "      <td>11.28</td>\n",
       "      <td>9.14</td>\n",
       "      <td>6.50</td>\n",
       "      <td>2.88</td>\n",
       "      <td>89.0</td>\n",
       "      <td>8.5</td>\n",
       "      <td>E</td>\n",
       "      <td>29.80</td>\n",
       "    </tr>\n",
       "    <tr>\n",
       "      <th>7</th>\n",
       "      <td>Wii Play</td>\n",
       "      <td>Wii</td>\n",
       "      <td>2006</td>\n",
       "      <td>Misc</td>\n",
       "      <td>13.96</td>\n",
       "      <td>9.18</td>\n",
       "      <td>2.93</td>\n",
       "      <td>2.84</td>\n",
       "      <td>58.0</td>\n",
       "      <td>6.6</td>\n",
       "      <td>E</td>\n",
       "      <td>28.91</td>\n",
       "    </tr>\n",
       "  </tbody>\n",
       "</table>\n",
       "</div>"
      ],
      "text/plain": [
       "                    name platform  year_of_release     genre  na_sales  \\\n",
       "0             Wii Sports      Wii             2006    Sports     41.36   \n",
       "2         Mario Kart Wii      Wii             2008    Racing     15.68   \n",
       "3      Wii Sports Resort      Wii             2009    Sports     15.61   \n",
       "6  New Super Mario Bros.       DS             2006  Platform     11.28   \n",
       "7               Wii Play      Wii             2006      Misc     13.96   \n",
       "\n",
       "   eu_sales  jp_sales  other_sales  critic_score  user_score rating  \\\n",
       "0     28.96      3.77         8.45          76.0         8.0      E   \n",
       "2     12.76      3.79         3.29          82.0         8.3      E   \n",
       "3     10.93      3.28         2.95          80.0         8.0      E   \n",
       "6      9.14      6.50         2.88          89.0         8.5      E   \n",
       "7      9.18      2.93         2.84          58.0         6.6      E   \n",
       "\n",
       "   total_sales  \n",
       "0        82.54  \n",
       "2        35.52  \n",
       "3        32.77  \n",
       "6        29.80  \n",
       "7        28.91  "
      ]
     },
     "metadata": {},
     "output_type": "display_data"
    }
   ],
   "source": [
    "\n",
    "# correct Dtypes of the columns\n",
    "\n",
    "games[\"year_of_release\"] = games[\"year_of_release\"].astype(\"Int64\")\n",
    "\n",
    "games[\"user_score\"] = games[\"user_score\"].replace(\"tbd\", np.nan).astype(float)\n",
    "\n",
    "# remove rows with too many missing values (more than 2)\n",
    "\n",
    "games = games.dropna(thresh=len(games.columns) - 2)\n",
    "\n",
    "\n",
    "# add a column for total sales\n",
    "\n",
    "games[\"total_sales\"] = games[\"na_sales\"] + games[\"eu_sales\"] + games[\"jp_sales\"] + games[\"other_sales\"]\n",
    "\n",
    "games.info()\n",
    "display(games.head())\n",
    "\n"
   ]
  },
  {
   "cell_type": "markdown",
   "metadata": {},
   "source": [
    "After cleaning, data is much easier to read.\n",
    "\n",
    "1. converted to lower case for consistancy\n",
    "2. updated dtypes for proper analysis\n",
    "3. removed excessive NaN value rows since they won't contribute key information to later analysis\n",
    "4. added a total_sales column\n"
   ]
  },
  {
   "cell_type": "code",
   "execution_count": 114,
   "metadata": {},
   "outputs": [
    {
     "name": "stdout",
     "output_type": "stream",
     "text": [
      "<class 'pandas.core.frame.DataFrame'>\n",
      "Index: 6826 entries, 0 to 16702\n",
      "Data columns (total 12 columns):\n",
      " #   Column           Non-Null Count  Dtype  \n",
      "---  ------           --------------  -----  \n",
      " 0   name             6826 non-null   object \n",
      " 1   platform         6826 non-null   object \n",
      " 2   year_of_release  6826 non-null   Int64  \n",
      " 3   genre            6826 non-null   object \n",
      " 4   na_sales         6826 non-null   float64\n",
      " 5   eu_sales         6826 non-null   float64\n",
      " 6   jp_sales         6826 non-null   float64\n",
      " 7   other_sales      6826 non-null   float64\n",
      " 8   critic_score     6826 non-null   float64\n",
      " 9   user_score       6826 non-null   float64\n",
      " 10  rating           6826 non-null   object \n",
      " 11  total_sales      6826 non-null   float64\n",
      "dtypes: Int64(1), float64(7), object(4)\n",
      "memory usage: 699.9+ KB\n"
     ]
    },
    {
     "data": {
      "text/html": [
       "<div>\n",
       "<style scoped>\n",
       "    .dataframe tbody tr th:only-of-type {\n",
       "        vertical-align: middle;\n",
       "    }\n",
       "\n",
       "    .dataframe tbody tr th {\n",
       "        vertical-align: top;\n",
       "    }\n",
       "\n",
       "    .dataframe thead th {\n",
       "        text-align: right;\n",
       "    }\n",
       "</style>\n",
       "<table border=\"1\" class=\"dataframe\">\n",
       "  <thead>\n",
       "    <tr style=\"text-align: right;\">\n",
       "      <th></th>\n",
       "      <th>name</th>\n",
       "      <th>platform</th>\n",
       "      <th>year_of_release</th>\n",
       "      <th>genre</th>\n",
       "      <th>na_sales</th>\n",
       "      <th>eu_sales</th>\n",
       "      <th>jp_sales</th>\n",
       "      <th>other_sales</th>\n",
       "      <th>critic_score</th>\n",
       "      <th>user_score</th>\n",
       "      <th>rating</th>\n",
       "      <th>total_sales</th>\n",
       "    </tr>\n",
       "  </thead>\n",
       "  <tbody>\n",
       "    <tr>\n",
       "      <th>0</th>\n",
       "      <td>Wii Sports</td>\n",
       "      <td>Wii</td>\n",
       "      <td>2006</td>\n",
       "      <td>Sports</td>\n",
       "      <td>41.36</td>\n",
       "      <td>28.96</td>\n",
       "      <td>3.77</td>\n",
       "      <td>8.45</td>\n",
       "      <td>76.0</td>\n",
       "      <td>8.0</td>\n",
       "      <td>E</td>\n",
       "      <td>82.54</td>\n",
       "    </tr>\n",
       "    <tr>\n",
       "      <th>2</th>\n",
       "      <td>Mario Kart Wii</td>\n",
       "      <td>Wii</td>\n",
       "      <td>2008</td>\n",
       "      <td>Racing</td>\n",
       "      <td>15.68</td>\n",
       "      <td>12.76</td>\n",
       "      <td>3.79</td>\n",
       "      <td>3.29</td>\n",
       "      <td>82.0</td>\n",
       "      <td>8.3</td>\n",
       "      <td>E</td>\n",
       "      <td>35.52</td>\n",
       "    </tr>\n",
       "    <tr>\n",
       "      <th>3</th>\n",
       "      <td>Wii Sports Resort</td>\n",
       "      <td>Wii</td>\n",
       "      <td>2009</td>\n",
       "      <td>Sports</td>\n",
       "      <td>15.61</td>\n",
       "      <td>10.93</td>\n",
       "      <td>3.28</td>\n",
       "      <td>2.95</td>\n",
       "      <td>80.0</td>\n",
       "      <td>8.0</td>\n",
       "      <td>E</td>\n",
       "      <td>32.77</td>\n",
       "    </tr>\n",
       "    <tr>\n",
       "      <th>6</th>\n",
       "      <td>New Super Mario Bros.</td>\n",
       "      <td>DS</td>\n",
       "      <td>2006</td>\n",
       "      <td>Platform</td>\n",
       "      <td>11.28</td>\n",
       "      <td>9.14</td>\n",
       "      <td>6.50</td>\n",
       "      <td>2.88</td>\n",
       "      <td>89.0</td>\n",
       "      <td>8.5</td>\n",
       "      <td>E</td>\n",
       "      <td>29.80</td>\n",
       "    </tr>\n",
       "    <tr>\n",
       "      <th>7</th>\n",
       "      <td>Wii Play</td>\n",
       "      <td>Wii</td>\n",
       "      <td>2006</td>\n",
       "      <td>Misc</td>\n",
       "      <td>13.96</td>\n",
       "      <td>9.18</td>\n",
       "      <td>2.93</td>\n",
       "      <td>2.84</td>\n",
       "      <td>58.0</td>\n",
       "      <td>6.6</td>\n",
       "      <td>E</td>\n",
       "      <td>28.91</td>\n",
       "    </tr>\n",
       "  </tbody>\n",
       "</table>\n",
       "</div>"
      ],
      "text/plain": [
       "                    name platform  year_of_release     genre  na_sales  \\\n",
       "0             Wii Sports      Wii             2006    Sports     41.36   \n",
       "2         Mario Kart Wii      Wii             2008    Racing     15.68   \n",
       "3      Wii Sports Resort      Wii             2009    Sports     15.61   \n",
       "6  New Super Mario Bros.       DS             2006  Platform     11.28   \n",
       "7               Wii Play      Wii             2006      Misc     13.96   \n",
       "\n",
       "   eu_sales  jp_sales  other_sales  critic_score  user_score rating  \\\n",
       "0     28.96      3.77         8.45          76.0         8.0      E   \n",
       "2     12.76      3.79         3.29          82.0         8.3      E   \n",
       "3     10.93      3.28         2.95          80.0         8.0      E   \n",
       "6      9.14      6.50         2.88          89.0         8.5      E   \n",
       "7      9.18      2.93         2.84          58.0         6.6      E   \n",
       "\n",
       "   total_sales  \n",
       "0        82.54  \n",
       "2        35.52  \n",
       "3        32.77  \n",
       "6        29.80  \n",
       "7        28.91  "
      ]
     },
     "metadata": {},
     "output_type": "display_data"
    }
   ],
   "source": [
    "\n",
    "# correct Dtypes of the columns\n",
    "\n",
    "games[\"year_of_release\"] = games[\"year_of_release\"].astype(\"Int64\")\n",
    "\n",
    "games[\"user_score\"] = games[\"user_score\"].replace(\"tbd\", np.nan).astype(float)\n",
    "\n",
    "# remove rows with too many missing values\n",
    "\n",
    "games = games.dropna(thresh=len(games.columns))\n",
    "\n",
    "\n",
    "# add a column for total sales\n",
    "\n",
    "games[\"total_sales\"] = games[\"na_sales\"] + games[\"eu_sales\"] + games[\"jp_sales\"] + games[\"other_sales\"]\n",
    "\n",
    "games.info()\n",
    "display(games.head())\n",
    "\n"
   ]
  },
  {
   "cell_type": "markdown",
   "metadata": {},
   "source": [
    "# Analysis guidlines\n",
    "\n",
    "1. Look at how many games were released in different years. Is the data for every period significant?\n",
    "2. Look at how sales varied from platform to platform. Choose the platforms with the greatest total sales and build a distribution based on data for each year. Find platforms that used to be popular but now have zero sales. How long does it generally take for new platforms to appear and old ones to fade?\n",
    "3. Determine what period you should take data for. To do so, look at your answers to the previous questions. The data should allow you to build a model for 2017.\n",
    "4. Work only with the data that you've decided is relevant. Disregard the data for previous years.\n",
    "5. Which platforms are leading in sales? Which ones are growing or shrinking? Select several potentially profitable platforms.\n",
    "6. Build a box plot for the global sales of all games, broken down by platform. Are the differences in sales significant? What about average sales on various platforms? Describe your findings.\n",
    "7. Take a look at how user and professional reviews affect sales for one popular platform.\n",
    "8. Build a scatter plot and calculate the correlation between reviews and sales. Draw conclusions.\n",
    "9. Keeping your conclusions in mind, compare the sales of the same games on other platforms.\n",
    "10. Take a look at the general distribution of games by genre. What can we say about the most profitable genres? Can you generalize about genres with high and low sales?"
   ]
  },
  {
   "cell_type": "code",
   "execution_count": 115,
   "metadata": {},
   "outputs": [
    {
     "data": {
      "application/vnd.plotly.v1+json": {
       "config": {
        "plotlyServerURL": "https://plot.ly"
       },
       "data": [
        {
         "alignmentgroup": "True",
         "hovertemplate": "Year of Release=%{x}<br>Number of Games Released=%{y}<extra></extra>",
         "legendgroup": "",
         "marker": {
          "color": "#636efa",
          "pattern": {
           "shape": ""
          }
         },
         "name": "",
         "offsetgroup": "",
         "orientation": "v",
         "showlegend": false,
         "textposition": "auto",
         "type": "bar",
         "x": [
          1985,
          1988,
          1992,
          1994,
          1996,
          1997,
          1998,
          1999,
          2000,
          2001,
          2002,
          2003,
          2004,
          2005,
          2006,
          2007,
          2008,
          2009,
          2010,
          2011,
          2012,
          2013,
          2014,
          2015,
          2016
         ],
         "xaxis": "x",
         "y": [
          1,
          1,
          1,
          1,
          7,
          13,
          25,
          30,
          102,
          256,
          455,
          498,
          476,
          562,
          528,
          590,
          592,
          550,
          429,
          454,
          313,
          266,
          253,
          211,
          212
         ],
         "yaxis": "y"
        }
       ],
       "layout": {
        "barmode": "relative",
        "legend": {
         "tracegroupgap": 0
        },
        "template": {
         "data": {
          "bar": [
           {
            "error_x": {
             "color": "#2a3f5f"
            },
            "error_y": {
             "color": "#2a3f5f"
            },
            "marker": {
             "line": {
              "color": "#E5ECF6",
              "width": 0.5
             },
             "pattern": {
              "fillmode": "overlay",
              "size": 10,
              "solidity": 0.2
             }
            },
            "type": "bar"
           }
          ],
          "barpolar": [
           {
            "marker": {
             "line": {
              "color": "#E5ECF6",
              "width": 0.5
             },
             "pattern": {
              "fillmode": "overlay",
              "size": 10,
              "solidity": 0.2
             }
            },
            "type": "barpolar"
           }
          ],
          "carpet": [
           {
            "aaxis": {
             "endlinecolor": "#2a3f5f",
             "gridcolor": "white",
             "linecolor": "white",
             "minorgridcolor": "white",
             "startlinecolor": "#2a3f5f"
            },
            "baxis": {
             "endlinecolor": "#2a3f5f",
             "gridcolor": "white",
             "linecolor": "white",
             "minorgridcolor": "white",
             "startlinecolor": "#2a3f5f"
            },
            "type": "carpet"
           }
          ],
          "choropleth": [
           {
            "colorbar": {
             "outlinewidth": 0,
             "ticks": ""
            },
            "type": "choropleth"
           }
          ],
          "contour": [
           {
            "colorbar": {
             "outlinewidth": 0,
             "ticks": ""
            },
            "colorscale": [
             [
              0,
              "#0d0887"
             ],
             [
              0.1111111111111111,
              "#46039f"
             ],
             [
              0.2222222222222222,
              "#7201a8"
             ],
             [
              0.3333333333333333,
              "#9c179e"
             ],
             [
              0.4444444444444444,
              "#bd3786"
             ],
             [
              0.5555555555555556,
              "#d8576b"
             ],
             [
              0.6666666666666666,
              "#ed7953"
             ],
             [
              0.7777777777777778,
              "#fb9f3a"
             ],
             [
              0.8888888888888888,
              "#fdca26"
             ],
             [
              1,
              "#f0f921"
             ]
            ],
            "type": "contour"
           }
          ],
          "contourcarpet": [
           {
            "colorbar": {
             "outlinewidth": 0,
             "ticks": ""
            },
            "type": "contourcarpet"
           }
          ],
          "heatmap": [
           {
            "colorbar": {
             "outlinewidth": 0,
             "ticks": ""
            },
            "colorscale": [
             [
              0,
              "#0d0887"
             ],
             [
              0.1111111111111111,
              "#46039f"
             ],
             [
              0.2222222222222222,
              "#7201a8"
             ],
             [
              0.3333333333333333,
              "#9c179e"
             ],
             [
              0.4444444444444444,
              "#bd3786"
             ],
             [
              0.5555555555555556,
              "#d8576b"
             ],
             [
              0.6666666666666666,
              "#ed7953"
             ],
             [
              0.7777777777777778,
              "#fb9f3a"
             ],
             [
              0.8888888888888888,
              "#fdca26"
             ],
             [
              1,
              "#f0f921"
             ]
            ],
            "type": "heatmap"
           }
          ],
          "heatmapgl": [
           {
            "colorbar": {
             "outlinewidth": 0,
             "ticks": ""
            },
            "colorscale": [
             [
              0,
              "#0d0887"
             ],
             [
              0.1111111111111111,
              "#46039f"
             ],
             [
              0.2222222222222222,
              "#7201a8"
             ],
             [
              0.3333333333333333,
              "#9c179e"
             ],
             [
              0.4444444444444444,
              "#bd3786"
             ],
             [
              0.5555555555555556,
              "#d8576b"
             ],
             [
              0.6666666666666666,
              "#ed7953"
             ],
             [
              0.7777777777777778,
              "#fb9f3a"
             ],
             [
              0.8888888888888888,
              "#fdca26"
             ],
             [
              1,
              "#f0f921"
             ]
            ],
            "type": "heatmapgl"
           }
          ],
          "histogram": [
           {
            "marker": {
             "pattern": {
              "fillmode": "overlay",
              "size": 10,
              "solidity": 0.2
             }
            },
            "type": "histogram"
           }
          ],
          "histogram2d": [
           {
            "colorbar": {
             "outlinewidth": 0,
             "ticks": ""
            },
            "colorscale": [
             [
              0,
              "#0d0887"
             ],
             [
              0.1111111111111111,
              "#46039f"
             ],
             [
              0.2222222222222222,
              "#7201a8"
             ],
             [
              0.3333333333333333,
              "#9c179e"
             ],
             [
              0.4444444444444444,
              "#bd3786"
             ],
             [
              0.5555555555555556,
              "#d8576b"
             ],
             [
              0.6666666666666666,
              "#ed7953"
             ],
             [
              0.7777777777777778,
              "#fb9f3a"
             ],
             [
              0.8888888888888888,
              "#fdca26"
             ],
             [
              1,
              "#f0f921"
             ]
            ],
            "type": "histogram2d"
           }
          ],
          "histogram2dcontour": [
           {
            "colorbar": {
             "outlinewidth": 0,
             "ticks": ""
            },
            "colorscale": [
             [
              0,
              "#0d0887"
             ],
             [
              0.1111111111111111,
              "#46039f"
             ],
             [
              0.2222222222222222,
              "#7201a8"
             ],
             [
              0.3333333333333333,
              "#9c179e"
             ],
             [
              0.4444444444444444,
              "#bd3786"
             ],
             [
              0.5555555555555556,
              "#d8576b"
             ],
             [
              0.6666666666666666,
              "#ed7953"
             ],
             [
              0.7777777777777778,
              "#fb9f3a"
             ],
             [
              0.8888888888888888,
              "#fdca26"
             ],
             [
              1,
              "#f0f921"
             ]
            ],
            "type": "histogram2dcontour"
           }
          ],
          "mesh3d": [
           {
            "colorbar": {
             "outlinewidth": 0,
             "ticks": ""
            },
            "type": "mesh3d"
           }
          ],
          "parcoords": [
           {
            "line": {
             "colorbar": {
              "outlinewidth": 0,
              "ticks": ""
             }
            },
            "type": "parcoords"
           }
          ],
          "pie": [
           {
            "automargin": true,
            "type": "pie"
           }
          ],
          "scatter": [
           {
            "fillpattern": {
             "fillmode": "overlay",
             "size": 10,
             "solidity": 0.2
            },
            "type": "scatter"
           }
          ],
          "scatter3d": [
           {
            "line": {
             "colorbar": {
              "outlinewidth": 0,
              "ticks": ""
             }
            },
            "marker": {
             "colorbar": {
              "outlinewidth": 0,
              "ticks": ""
             }
            },
            "type": "scatter3d"
           }
          ],
          "scattercarpet": [
           {
            "marker": {
             "colorbar": {
              "outlinewidth": 0,
              "ticks": ""
             }
            },
            "type": "scattercarpet"
           }
          ],
          "scattergeo": [
           {
            "marker": {
             "colorbar": {
              "outlinewidth": 0,
              "ticks": ""
             }
            },
            "type": "scattergeo"
           }
          ],
          "scattergl": [
           {
            "marker": {
             "colorbar": {
              "outlinewidth": 0,
              "ticks": ""
             }
            },
            "type": "scattergl"
           }
          ],
          "scattermapbox": [
           {
            "marker": {
             "colorbar": {
              "outlinewidth": 0,
              "ticks": ""
             }
            },
            "type": "scattermapbox"
           }
          ],
          "scatterpolar": [
           {
            "marker": {
             "colorbar": {
              "outlinewidth": 0,
              "ticks": ""
             }
            },
            "type": "scatterpolar"
           }
          ],
          "scatterpolargl": [
           {
            "marker": {
             "colorbar": {
              "outlinewidth": 0,
              "ticks": ""
             }
            },
            "type": "scatterpolargl"
           }
          ],
          "scatterternary": [
           {
            "marker": {
             "colorbar": {
              "outlinewidth": 0,
              "ticks": ""
             }
            },
            "type": "scatterternary"
           }
          ],
          "surface": [
           {
            "colorbar": {
             "outlinewidth": 0,
             "ticks": ""
            },
            "colorscale": [
             [
              0,
              "#0d0887"
             ],
             [
              0.1111111111111111,
              "#46039f"
             ],
             [
              0.2222222222222222,
              "#7201a8"
             ],
             [
              0.3333333333333333,
              "#9c179e"
             ],
             [
              0.4444444444444444,
              "#bd3786"
             ],
             [
              0.5555555555555556,
              "#d8576b"
             ],
             [
              0.6666666666666666,
              "#ed7953"
             ],
             [
              0.7777777777777778,
              "#fb9f3a"
             ],
             [
              0.8888888888888888,
              "#fdca26"
             ],
             [
              1,
              "#f0f921"
             ]
            ],
            "type": "surface"
           }
          ],
          "table": [
           {
            "cells": {
             "fill": {
              "color": "#EBF0F8"
             },
             "line": {
              "color": "white"
             }
            },
            "header": {
             "fill": {
              "color": "#C8D4E3"
             },
             "line": {
              "color": "white"
             }
            },
            "type": "table"
           }
          ]
         },
         "layout": {
          "annotationdefaults": {
           "arrowcolor": "#2a3f5f",
           "arrowhead": 0,
           "arrowwidth": 1
          },
          "autotypenumbers": "strict",
          "coloraxis": {
           "colorbar": {
            "outlinewidth": 0,
            "ticks": ""
           }
          },
          "colorscale": {
           "diverging": [
            [
             0,
             "#8e0152"
            ],
            [
             0.1,
             "#c51b7d"
            ],
            [
             0.2,
             "#de77ae"
            ],
            [
             0.3,
             "#f1b6da"
            ],
            [
             0.4,
             "#fde0ef"
            ],
            [
             0.5,
             "#f7f7f7"
            ],
            [
             0.6,
             "#e6f5d0"
            ],
            [
             0.7,
             "#b8e186"
            ],
            [
             0.8,
             "#7fbc41"
            ],
            [
             0.9,
             "#4d9221"
            ],
            [
             1,
             "#276419"
            ]
           ],
           "sequential": [
            [
             0,
             "#0d0887"
            ],
            [
             0.1111111111111111,
             "#46039f"
            ],
            [
             0.2222222222222222,
             "#7201a8"
            ],
            [
             0.3333333333333333,
             "#9c179e"
            ],
            [
             0.4444444444444444,
             "#bd3786"
            ],
            [
             0.5555555555555556,
             "#d8576b"
            ],
            [
             0.6666666666666666,
             "#ed7953"
            ],
            [
             0.7777777777777778,
             "#fb9f3a"
            ],
            [
             0.8888888888888888,
             "#fdca26"
            ],
            [
             1,
             "#f0f921"
            ]
           ],
           "sequentialminus": [
            [
             0,
             "#0d0887"
            ],
            [
             0.1111111111111111,
             "#46039f"
            ],
            [
             0.2222222222222222,
             "#7201a8"
            ],
            [
             0.3333333333333333,
             "#9c179e"
            ],
            [
             0.4444444444444444,
             "#bd3786"
            ],
            [
             0.5555555555555556,
             "#d8576b"
            ],
            [
             0.6666666666666666,
             "#ed7953"
            ],
            [
             0.7777777777777778,
             "#fb9f3a"
            ],
            [
             0.8888888888888888,
             "#fdca26"
            ],
            [
             1,
             "#f0f921"
            ]
           ]
          },
          "colorway": [
           "#636efa",
           "#EF553B",
           "#00cc96",
           "#ab63fa",
           "#FFA15A",
           "#19d3f3",
           "#FF6692",
           "#B6E880",
           "#FF97FF",
           "#FECB52"
          ],
          "font": {
           "color": "#2a3f5f"
          },
          "geo": {
           "bgcolor": "white",
           "lakecolor": "white",
           "landcolor": "#E5ECF6",
           "showlakes": true,
           "showland": true,
           "subunitcolor": "white"
          },
          "hoverlabel": {
           "align": "left"
          },
          "hovermode": "closest",
          "mapbox": {
           "style": "light"
          },
          "paper_bgcolor": "white",
          "plot_bgcolor": "#E5ECF6",
          "polar": {
           "angularaxis": {
            "gridcolor": "white",
            "linecolor": "white",
            "ticks": ""
           },
           "bgcolor": "#E5ECF6",
           "radialaxis": {
            "gridcolor": "white",
            "linecolor": "white",
            "ticks": ""
           }
          },
          "scene": {
           "xaxis": {
            "backgroundcolor": "#E5ECF6",
            "gridcolor": "white",
            "gridwidth": 2,
            "linecolor": "white",
            "showbackground": true,
            "ticks": "",
            "zerolinecolor": "white"
           },
           "yaxis": {
            "backgroundcolor": "#E5ECF6",
            "gridcolor": "white",
            "gridwidth": 2,
            "linecolor": "white",
            "showbackground": true,
            "ticks": "",
            "zerolinecolor": "white"
           },
           "zaxis": {
            "backgroundcolor": "#E5ECF6",
            "gridcolor": "white",
            "gridwidth": 2,
            "linecolor": "white",
            "showbackground": true,
            "ticks": "",
            "zerolinecolor": "white"
           }
          },
          "shapedefaults": {
           "line": {
            "color": "#2a3f5f"
           }
          },
          "ternary": {
           "aaxis": {
            "gridcolor": "white",
            "linecolor": "white",
            "ticks": ""
           },
           "baxis": {
            "gridcolor": "white",
            "linecolor": "white",
            "ticks": ""
           },
           "bgcolor": "#E5ECF6",
           "caxis": {
            "gridcolor": "white",
            "linecolor": "white",
            "ticks": ""
           }
          },
          "title": {
           "x": 0.05
          },
          "xaxis": {
           "automargin": true,
           "gridcolor": "white",
           "linecolor": "white",
           "ticks": "",
           "title": {
            "standoff": 15
           },
           "zerolinecolor": "white",
           "zerolinewidth": 2
          },
          "yaxis": {
           "automargin": true,
           "gridcolor": "white",
           "linecolor": "white",
           "ticks": "",
           "title": {
            "standoff": 15
           },
           "zerolinecolor": "white",
           "zerolinewidth": 2
          }
         }
        },
        "title": {
         "text": "Number of Games Released Per Year"
        },
        "xaxis": {
         "anchor": "y",
         "domain": [
          0,
          1
         ],
         "title": {
          "text": "Year of Release"
         }
        },
        "yaxis": {
         "anchor": "x",
         "domain": [
          0,
          1
         ],
         "title": {
          "text": "Number of Games Released"
         }
        }
       }
      }
     },
     "metadata": {},
     "output_type": "display_data"
    }
   ],
   "source": [
    "# Analyze the data\n",
    "\n",
    "# Count the number of games released per year\n",
    "games_per_year = games[\"year_of_release\"].value_counts().sort_index()\n",
    "\n",
    "# Create a bar chart using Plotly Express\n",
    "fig = px.bar(\n",
    "    games_per_year,\n",
    "    x=games_per_year.index,\n",
    "    y=games_per_year.values,\n",
    "    labels={\"x\": \"Year of Release\", \"y\": \"Number of Games Released\"},\n",
    "    title=\"Number of Games Released Per Year\",\n",
    ")\n",
    "\n",
    "# Show the plot\n",
    "fig.show()\n"
   ]
  },
  {
   "cell_type": "code",
   "execution_count": 116,
   "metadata": {},
   "outputs": [
    {
     "data": {
      "image/png": "[encoded data removed]",
      "text/plain": [
       "<Figure size 1000x600 with 1 Axes>"
      ]
     },
     "metadata": {},
     "output_type": "display_data"
    }
   ],
   "source": [
    "# Number of games released in different platforms\n",
    "\n",
    "games[\"platform\"].value_counts().plot(kind=\"bar\", figsize=(10, 6))\n",
    "plt.title(\"Number of games released in different platforms\")\n",
    "plt.xlabel(\"Platform\")\n",
    "plt.ylabel(\"Number of games\")\n",
    "plt.show()"
   ]
  },
  {
   "cell_type": "code",
   "execution_count": 117,
   "metadata": {},
   "outputs": [
    {
     "data": {
      "image/png": "[encoded data removed]",
      "text/plain": [
       "<Figure size 1000x600 with 1 Axes>"
      ]
     },
     "metadata": {},
     "output_type": "display_data"
    }
   ],
   "source": [
    "# Number of games released in different genres\n",
    "\n",
    "games[\"genre\"].value_counts().plot(kind=\"bar\", figsize=(10, 6))\n",
    "plt.title(\"Number of games released in different genres\")\n",
    "plt.xlabel(\"Genre\")\n",
    "plt.ylabel(\"Number of games\")\n",
    "plt.show()"
   ]
  },
  {
   "cell_type": "code",
   "execution_count": 118,
   "metadata": {},
   "outputs": [
    {
     "data": {
      "image/png": "[encoded data removed]",
      "text/plain": [
       "<Figure size 1000x600 with 1 Axes>"
      ]
     },
     "metadata": {},
     "output_type": "display_data"
    },
    {
     "name": "stdout",
     "output_type": "stream",
     "text": [
      "Total sales of games in different platforms:\n"
     ]
    },
    {
     "data": {
      "text/plain": [
       "platform\n",
       "PS2     946.01\n",
       "X360    853.24\n",
       "PS3     784.45\n",
       "Wii     658.97\n",
       "DS      382.22\n",
       "PS4     243.00\n",
       "XB      211.93\n",
       "PS      206.65\n",
       "PSP     187.68\n",
       "PC      186.71\n",
       "GC      159.25\n",
       "GBA     131.70\n",
       "XOne    129.48\n",
       "3DS     123.22\n",
       "WiiU     66.08\n",
       "PSV      30.83\n",
       "DC        4.55\n",
       "Name: total_sales, dtype: float64"
      ]
     },
     "metadata": {},
     "output_type": "display_data"
    }
   ],
   "source": [
    "# Total sales of games in different platforms\n",
    "\n",
    "platform_sales = games.groupby(\"platform\")[\"total_sales\"].sum().sort_values(ascending=False)\n",
    "platform_sales.plot(kind=\"bar\", figsize=(10, 6))\n",
    "plt.title(\"Total sales of games in different platforms\")\n",
    "plt.xlabel(\"Platform\")\n",
    "plt.ylabel(\"Total sales\")\n",
    "plt.show()\n",
    "\n",
    "print(\"Total sales of games in different platforms:\")\n",
    "display(platform_sales)"
   ]
  },
  {
   "cell_type": "code",
   "execution_count": 127,
   "metadata": {},
   "outputs": [
    {
     "data": {
      "image/png": "[encoded data removed]",
      "text/plain": [
       "<Figure size 1000x600 with 1 Axes>"
      ]
     },
     "metadata": {},
     "output_type": "display_data"
    }
   ],
   "source": [
    "# ESRB ratings of games per region\n",
    "\n",
    "esrb_ratings = [\"E\", \"E10+\", \"T\", \"M\", \"AO\", \"RP\"]\n",
    "na_sales = []\n",
    "eu_sales = []\n",
    "jp_sales = []\n",
    "other_sales = []\n",
    "\n",
    "for rating in esrb_ratings:\n",
    "    na_sales.append(games.query(\"rating == @rating\")[\"na_sales\"].sum())\n",
    "    eu_sales.append(games.query(\"rating == @rating\")[\"eu_sales\"].sum())\n",
    "    jp_sales.append(games.query(\"rating == @rating\")[\"jp_sales\"].sum())\n",
    "    other_sales.append(games.query(\"rating == @rating\")[\"other_sales\"].sum())\n",
    "\n",
    "esrb_sales = pd.DataFrame(\n",
    "    {\n",
    "        \"Rating\": esrb_ratings,\n",
    "        \"NA Sales\": na_sales,\n",
    "        \"EU Sales\": eu_sales,\n",
    "        \"JP Sales\": jp_sales,\n",
    "        \"Other Sales\": other_sales,\n",
    "    }\n",
    ")\n",
    "\n",
    "esrb_sales.set_index(\"Rating\", inplace=True)\n",
    "esrb_sales.plot(kind=\"bar\", figsize=(10, 6))\n",
    "plt.title(\"ESRB Ratings of Games Per Region\")\n",
    "plt.xlabel(\"ESRB Rating\")\n",
    "plt.ylabel(\"Total Sales\")\n",
    "plt.show()\n"
   ]
  },
  {
   "cell_type": "code",
   "execution_count": 128,
   "metadata": {},
   "outputs": [
    {
     "data": {
      "text/plain": [
       "'Playstation Sales: 1967.94'"
      ]
     },
     "metadata": {},
     "output_type": "display_data"
    },
    {
     "data": {
      "text/plain": [
       "'Xbox Sales: 1194.65'"
      ]
     },
     "metadata": {},
     "output_type": "display_data"
    },
    {
     "data": {
      "text/plain": [
       "'Nintendo Sales: 725.05'"
      ]
     },
     "metadata": {},
     "output_type": "display_data"
    },
    {
     "data": {
      "text/plain": [
       "'Gameboy Sales: 637.14'"
      ]
     },
     "metadata": {},
     "output_type": "display_data"
    }
   ],
   "source": [
    "# total sales by top platforms\n",
    "\n",
    "# playstation sales\n",
    "playstation_sales = round(games.query(\"platform in ['PS', 'PS2', 'PS3' , 'PSV']\")[\"total_sales\"].sum(),2)\n",
    "\n",
    "# xbox sales\n",
    "xbox_sales = round(games.query(\"platform in ['X360', 'XB', 'XOne']\")[\"total_sales\"].sum(),2)\n",
    "\n",
    "# nintendo sales\n",
    "nintendo_sales = round(games.query(\"platform in ['Wii','WiiU']\")[\"total_sales\"].sum(),2)\n",
    "\n",
    "# gameboy sales (Nintendo)\n",
    "gameboy_sales = round(games.query(\"platform in ['DS', 'GB', 'GBA', '3DS']\")[\"total_sales\"].sum(),2)\n",
    "\n",
    "display(f\"Playstation Sales: {playstation_sales}\")\n",
    "display(f\"Xbox Sales: {xbox_sales}\")\n",
    "display(f\"Nintendo Sales: {nintendo_sales}\")\n",
    "display(f\"Gameboy Sales: {gameboy_sales}\")"
   ]
  },
  {
   "cell_type": "markdown",
   "metadata": {},
   "source": [
    "Based on the sales total for Playstation, Xbox, and Nintendo, and Gameboy Platforms the highest sales figure comes in for Playstation. (While Gameboy is a Nintendo product, the Wii and Gameboy platforms are seperated due to one being handheld and one being a console)"
   ]
  },
  {
   "cell_type": "code",
   "execution_count": 129,
   "metadata": {},
   "outputs": [
    {
     "data": {
      "text/plain": [
       "'Distribution by Year:'"
      ]
     },
     "metadata": {},
     "output_type": "display_data"
    },
    {
     "data": {
      "text/html": [
       "<div>\n",
       "<style scoped>\n",
       "    .dataframe tbody tr th:only-of-type {\n",
       "        vertical-align: middle;\n",
       "    }\n",
       "\n",
       "    .dataframe tbody tr th {\n",
       "        vertical-align: top;\n",
       "    }\n",
       "\n",
       "    .dataframe thead th {\n",
       "        text-align: right;\n",
       "    }\n",
       "</style>\n",
       "<table border=\"1\" class=\"dataframe\">\n",
       "  <thead>\n",
       "    <tr style=\"text-align: right;\">\n",
       "      <th>platform</th>\n",
       "      <th>PS</th>\n",
       "      <th>PS2</th>\n",
       "      <th>PS3</th>\n",
       "      <th>PSV</th>\n",
       "    </tr>\n",
       "    <tr>\n",
       "      <th>year_of_release</th>\n",
       "      <th></th>\n",
       "      <th></th>\n",
       "      <th></th>\n",
       "      <th></th>\n",
       "    </tr>\n",
       "  </thead>\n",
       "  <tbody>\n",
       "    <tr>\n",
       "      <th>1994</th>\n",
       "      <td>0.06%</td>\n",
       "      <td>0.0%</td>\n",
       "      <td>0.0%</td>\n",
       "      <td>0.0%</td>\n",
       "    </tr>\n",
       "    <tr>\n",
       "      <th>1996</th>\n",
       "      <td>0.89%</td>\n",
       "      <td>0.0%</td>\n",
       "      <td>0.0%</td>\n",
       "      <td>0.0%</td>\n",
       "    </tr>\n",
       "    <tr>\n",
       "      <th>1997</th>\n",
       "      <td>1.57%</td>\n",
       "      <td>0.0%</td>\n",
       "      <td>0.0%</td>\n",
       "      <td>0.0%</td>\n",
       "    </tr>\n",
       "    <tr>\n",
       "      <th>1998</th>\n",
       "      <td>2.19%</td>\n",
       "      <td>0.0%</td>\n",
       "      <td>0.0%</td>\n",
       "      <td>0.0%</td>\n",
       "    </tr>\n",
       "    <tr>\n",
       "      <th>1999</th>\n",
       "      <td>2.49%</td>\n",
       "      <td>0.0%</td>\n",
       "      <td>0.0%</td>\n",
       "      <td>0.0%</td>\n",
       "    </tr>\n",
       "    <tr>\n",
       "      <th>2000</th>\n",
       "      <td>2.32%</td>\n",
       "      <td>1.5%</td>\n",
       "      <td>0.0%</td>\n",
       "      <td>0.0%</td>\n",
       "    </tr>\n",
       "    <tr>\n",
       "      <th>2001</th>\n",
       "      <td>0.97%</td>\n",
       "      <td>7.42%</td>\n",
       "      <td>0.0%</td>\n",
       "      <td>0.0%</td>\n",
       "    </tr>\n",
       "    <tr>\n",
       "      <th>2002</th>\n",
       "      <td>0.01%</td>\n",
       "      <td>8.64%</td>\n",
       "      <td>0.0%</td>\n",
       "      <td>0.0%</td>\n",
       "    </tr>\n",
       "    <tr>\n",
       "      <th>2003</th>\n",
       "      <td>0.0%</td>\n",
       "      <td>7.33%</td>\n",
       "      <td>0.0%</td>\n",
       "      <td>0.0%</td>\n",
       "    </tr>\n",
       "    <tr>\n",
       "      <th>2004</th>\n",
       "      <td>0.0%</td>\n",
       "      <td>9.57%</td>\n",
       "      <td>0.0%</td>\n",
       "      <td>0.0%</td>\n",
       "    </tr>\n",
       "    <tr>\n",
       "      <th>2005</th>\n",
       "      <td>0.0%</td>\n",
       "      <td>5.98%</td>\n",
       "      <td>0.0%</td>\n",
       "      <td>0.0%</td>\n",
       "    </tr>\n",
       "    <tr>\n",
       "      <th>2006</th>\n",
       "      <td>0.0%</td>\n",
       "      <td>3.86%</td>\n",
       "      <td>1.0%</td>\n",
       "      <td>0.0%</td>\n",
       "    </tr>\n",
       "    <tr>\n",
       "      <th>2007</th>\n",
       "      <td>0.0%</td>\n",
       "      <td>2.44%</td>\n",
       "      <td>3.48%</td>\n",
       "      <td>0.0%</td>\n",
       "    </tr>\n",
       "    <tr>\n",
       "      <th>2008</th>\n",
       "      <td>0.0%</td>\n",
       "      <td>1.07%</td>\n",
       "      <td>5.58%</td>\n",
       "      <td>0.0%</td>\n",
       "    </tr>\n",
       "    <tr>\n",
       "      <th>2009</th>\n",
       "      <td>0.0%</td>\n",
       "      <td>0.23%</td>\n",
       "      <td>6.02%</td>\n",
       "      <td>0.0%</td>\n",
       "    </tr>\n",
       "    <tr>\n",
       "      <th>2010</th>\n",
       "      <td>0.0%</td>\n",
       "      <td>0.03%</td>\n",
       "      <td>6.36%</td>\n",
       "      <td>0.0%</td>\n",
       "    </tr>\n",
       "    <tr>\n",
       "      <th>2011</th>\n",
       "      <td>0.0%</td>\n",
       "      <td>0.0%</td>\n",
       "      <td>6.85%</td>\n",
       "      <td>0.2%</td>\n",
       "    </tr>\n",
       "    <tr>\n",
       "      <th>2012</th>\n",
       "      <td>0.0%</td>\n",
       "      <td>0.0%</td>\n",
       "      <td>4.79%</td>\n",
       "      <td>0.66%</td>\n",
       "    </tr>\n",
       "    <tr>\n",
       "      <th>2013</th>\n",
       "      <td>0.0%</td>\n",
       "      <td>0.0%</td>\n",
       "      <td>5.19%</td>\n",
       "      <td>0.3%</td>\n",
       "    </tr>\n",
       "    <tr>\n",
       "      <th>2014</th>\n",
       "      <td>0.0%</td>\n",
       "      <td>0.0%</td>\n",
       "      <td>0.58%</td>\n",
       "      <td>0.27%</td>\n",
       "    </tr>\n",
       "    <tr>\n",
       "      <th>2015</th>\n",
       "      <td>0.0%</td>\n",
       "      <td>0.0%</td>\n",
       "      <td>0.0%</td>\n",
       "      <td>0.09%</td>\n",
       "    </tr>\n",
       "    <tr>\n",
       "      <th>2016</th>\n",
       "      <td>0.0%</td>\n",
       "      <td>0.0%</td>\n",
       "      <td>0.0%</td>\n",
       "      <td>0.05%</td>\n",
       "    </tr>\n",
       "  </tbody>\n",
       "</table>\n",
       "</div>"
      ],
      "text/plain": [
       "platform            PS    PS2    PS3    PSV\n",
       "year_of_release                            \n",
       "1994             0.06%   0.0%   0.0%   0.0%\n",
       "1996             0.89%   0.0%   0.0%   0.0%\n",
       "1997             1.57%   0.0%   0.0%   0.0%\n",
       "1998             2.19%   0.0%   0.0%   0.0%\n",
       "1999             2.49%   0.0%   0.0%   0.0%\n",
       "2000             2.32%   1.5%   0.0%   0.0%\n",
       "2001             0.97%  7.42%   0.0%   0.0%\n",
       "2002             0.01%  8.64%   0.0%   0.0%\n",
       "2003              0.0%  7.33%   0.0%   0.0%\n",
       "2004              0.0%  9.57%   0.0%   0.0%\n",
       "2005              0.0%  5.98%   0.0%   0.0%\n",
       "2006              0.0%  3.86%   1.0%   0.0%\n",
       "2007              0.0%  2.44%  3.48%   0.0%\n",
       "2008              0.0%  1.07%  5.58%   0.0%\n",
       "2009              0.0%  0.23%  6.02%   0.0%\n",
       "2010              0.0%  0.03%  6.36%   0.0%\n",
       "2011              0.0%   0.0%  6.85%   0.2%\n",
       "2012              0.0%   0.0%  4.79%  0.66%\n",
       "2013              0.0%   0.0%  5.19%   0.3%\n",
       "2014              0.0%   0.0%  0.58%  0.27%\n",
       "2015              0.0%   0.0%   0.0%  0.09%\n",
       "2016              0.0%   0.0%   0.0%  0.05%"
      ]
     },
     "metadata": {},
     "output_type": "display_data"
    },
    {
     "data": {
      "text/html": [
       "<div>\n",
       "<style scoped>\n",
       "    .dataframe tbody tr th:only-of-type {\n",
       "        vertical-align: middle;\n",
       "    }\n",
       "\n",
       "    .dataframe tbody tr th {\n",
       "        vertical-align: top;\n",
       "    }\n",
       "\n",
       "    .dataframe thead th {\n",
       "        text-align: right;\n",
       "    }\n",
       "</style>\n",
       "<table border=\"1\" class=\"dataframe\">\n",
       "  <thead>\n",
       "    <tr style=\"text-align: right;\">\n",
       "      <th>platform</th>\n",
       "      <th>X360</th>\n",
       "      <th>XB</th>\n",
       "      <th>XOne</th>\n",
       "    </tr>\n",
       "    <tr>\n",
       "      <th>year_of_release</th>\n",
       "      <th></th>\n",
       "      <th></th>\n",
       "      <th></th>\n",
       "    </tr>\n",
       "  </thead>\n",
       "  <tbody>\n",
       "    <tr>\n",
       "      <th>2000</th>\n",
       "      <td>0.0%</td>\n",
       "      <td>0.08%</td>\n",
       "      <td>0.0%</td>\n",
       "    </tr>\n",
       "    <tr>\n",
       "      <th>2001</th>\n",
       "      <td>0.0%</td>\n",
       "      <td>1.73%</td>\n",
       "      <td>0.0%</td>\n",
       "    </tr>\n",
       "    <tr>\n",
       "      <th>2002</th>\n",
       "      <td>0.0%</td>\n",
       "      <td>3.37%</td>\n",
       "      <td>0.0%</td>\n",
       "    </tr>\n",
       "    <tr>\n",
       "      <th>2003</th>\n",
       "      <td>0.0%</td>\n",
       "      <td>3.55%</td>\n",
       "      <td>0.0%</td>\n",
       "    </tr>\n",
       "    <tr>\n",
       "      <th>2004</th>\n",
       "      <td>0.0%</td>\n",
       "      <td>4.9%</td>\n",
       "      <td>0.0%</td>\n",
       "    </tr>\n",
       "    <tr>\n",
       "      <th>2005</th>\n",
       "      <td>0.64%</td>\n",
       "      <td>3.46%</td>\n",
       "      <td>0.0%</td>\n",
       "    </tr>\n",
       "    <tr>\n",
       "      <th>2006</th>\n",
       "      <td>4.09%</td>\n",
       "      <td>0.6%</td>\n",
       "      <td>0.0%</td>\n",
       "    </tr>\n",
       "    <tr>\n",
       "      <th>2007</th>\n",
       "      <td>7.48%</td>\n",
       "      <td>0.05%</td>\n",
       "      <td>0.0%</td>\n",
       "    </tr>\n",
       "    <tr>\n",
       "      <th>2008</th>\n",
       "      <td>10.81%</td>\n",
       "      <td>0.0%</td>\n",
       "      <td>0.0%</td>\n",
       "    </tr>\n",
       "    <tr>\n",
       "      <th>2009</th>\n",
       "      <td>9.26%</td>\n",
       "      <td>0.0%</td>\n",
       "      <td>0.0%</td>\n",
       "    </tr>\n",
       "    <tr>\n",
       "      <th>2010</th>\n",
       "      <td>13.17%</td>\n",
       "      <td>0.0%</td>\n",
       "      <td>0.0%</td>\n",
       "    </tr>\n",
       "    <tr>\n",
       "      <th>2011</th>\n",
       "      <td>10.84%</td>\n",
       "      <td>0.0%</td>\n",
       "      <td>0.0%</td>\n",
       "    </tr>\n",
       "    <tr>\n",
       "      <th>2012</th>\n",
       "      <td>8.01%</td>\n",
       "      <td>0.0%</td>\n",
       "      <td>0.0%</td>\n",
       "    </tr>\n",
       "    <tr>\n",
       "      <th>2013</th>\n",
       "      <td>6.26%</td>\n",
       "      <td>0.0%</td>\n",
       "      <td>1.25%</td>\n",
       "    </tr>\n",
       "    <tr>\n",
       "      <th>2014</th>\n",
       "      <td>0.85%</td>\n",
       "      <td>0.0%</td>\n",
       "      <td>3.94%</td>\n",
       "    </tr>\n",
       "    <tr>\n",
       "      <th>2015</th>\n",
       "      <td>0.0%</td>\n",
       "      <td>0.0%</td>\n",
       "      <td>3.7%</td>\n",
       "    </tr>\n",
       "    <tr>\n",
       "      <th>2016</th>\n",
       "      <td>0.0%</td>\n",
       "      <td>0.0%</td>\n",
       "      <td>1.95%</td>\n",
       "    </tr>\n",
       "  </tbody>\n",
       "</table>\n",
       "</div>"
      ],
      "text/plain": [
       "platform           X360     XB   XOne\n",
       "year_of_release                      \n",
       "2000               0.0%  0.08%   0.0%\n",
       "2001               0.0%  1.73%   0.0%\n",
       "2002               0.0%  3.37%   0.0%\n",
       "2003               0.0%  3.55%   0.0%\n",
       "2004               0.0%   4.9%   0.0%\n",
       "2005              0.64%  3.46%   0.0%\n",
       "2006              4.09%   0.6%   0.0%\n",
       "2007              7.48%  0.05%   0.0%\n",
       "2008             10.81%   0.0%   0.0%\n",
       "2009              9.26%   0.0%   0.0%\n",
       "2010             13.17%   0.0%   0.0%\n",
       "2011             10.84%   0.0%   0.0%\n",
       "2012              8.01%   0.0%   0.0%\n",
       "2013              6.26%   0.0%  1.25%\n",
       "2014              0.85%   0.0%  3.94%\n",
       "2015               0.0%   0.0%   3.7%\n",
       "2016               0.0%   0.0%  1.95%"
      ]
     },
     "metadata": {},
     "output_type": "display_data"
    },
    {
     "data": {
      "text/html": [
       "<div>\n",
       "<style scoped>\n",
       "    .dataframe tbody tr th:only-of-type {\n",
       "        vertical-align: middle;\n",
       "    }\n",
       "\n",
       "    .dataframe tbody tr th {\n",
       "        vertical-align: top;\n",
       "    }\n",
       "\n",
       "    .dataframe thead th {\n",
       "        text-align: right;\n",
       "    }\n",
       "</style>\n",
       "<table border=\"1\" class=\"dataframe\">\n",
       "  <thead>\n",
       "    <tr style=\"text-align: right;\">\n",
       "      <th>platform</th>\n",
       "      <th>Wii</th>\n",
       "      <th>WiiU</th>\n",
       "    </tr>\n",
       "    <tr>\n",
       "      <th>year_of_release</th>\n",
       "      <th></th>\n",
       "      <th></th>\n",
       "    </tr>\n",
       "  </thead>\n",
       "  <tbody>\n",
       "    <tr>\n",
       "      <th>2006</th>\n",
       "      <td>18.62%</td>\n",
       "      <td>0.0%</td>\n",
       "    </tr>\n",
       "    <tr>\n",
       "      <th>2007</th>\n",
       "      <td>17.56%</td>\n",
       "      <td>0.0%</td>\n",
       "    </tr>\n",
       "    <tr>\n",
       "      <th>2008</th>\n",
       "      <td>18.07%</td>\n",
       "      <td>0.0%</td>\n",
       "    </tr>\n",
       "    <tr>\n",
       "      <th>2009</th>\n",
       "      <td>20.83%</td>\n",
       "      <td>0.0%</td>\n",
       "    </tr>\n",
       "    <tr>\n",
       "      <th>2010</th>\n",
       "      <td>9.37%</td>\n",
       "      <td>0.0%</td>\n",
       "    </tr>\n",
       "    <tr>\n",
       "      <th>2011</th>\n",
       "      <td>4.62%</td>\n",
       "      <td>0.0%</td>\n",
       "    </tr>\n",
       "    <tr>\n",
       "      <th>2012</th>\n",
       "      <td>1.82%</td>\n",
       "      <td>2.05%</td>\n",
       "    </tr>\n",
       "    <tr>\n",
       "      <th>2013</th>\n",
       "      <td>0.0%</td>\n",
       "      <td>2.4%</td>\n",
       "    </tr>\n",
       "    <tr>\n",
       "      <th>2014</th>\n",
       "      <td>0.0%</td>\n",
       "      <td>2.1%</td>\n",
       "    </tr>\n",
       "    <tr>\n",
       "      <th>2015</th>\n",
       "      <td>0.0%</td>\n",
       "      <td>2.12%</td>\n",
       "    </tr>\n",
       "    <tr>\n",
       "      <th>2016</th>\n",
       "      <td>0.0%</td>\n",
       "      <td>0.45%</td>\n",
       "    </tr>\n",
       "  </tbody>\n",
       "</table>\n",
       "</div>"
      ],
      "text/plain": [
       "platform            Wii   WiiU\n",
       "year_of_release               \n",
       "2006             18.62%   0.0%\n",
       "2007             17.56%   0.0%\n",
       "2008             18.07%   0.0%\n",
       "2009             20.83%   0.0%\n",
       "2010              9.37%   0.0%\n",
       "2011              4.62%   0.0%\n",
       "2012              1.82%  2.05%\n",
       "2013               0.0%   2.4%\n",
       "2014               0.0%   2.1%\n",
       "2015               0.0%  2.12%\n",
       "2016               0.0%  0.45%"
      ]
     },
     "metadata": {},
     "output_type": "display_data"
    },
    {
     "data": {
      "text/html": [
       "<div>\n",
       "<style scoped>\n",
       "    .dataframe tbody tr th:only-of-type {\n",
       "        vertical-align: middle;\n",
       "    }\n",
       "\n",
       "    .dataframe tbody tr th {\n",
       "        vertical-align: top;\n",
       "    }\n",
       "\n",
       "    .dataframe thead th {\n",
       "        text-align: right;\n",
       "    }\n",
       "</style>\n",
       "<table border=\"1\" class=\"dataframe\">\n",
       "  <thead>\n",
       "    <tr style=\"text-align: right;\">\n",
       "      <th>platform</th>\n",
       "      <th>3DS</th>\n",
       "      <th>DS</th>\n",
       "      <th>GBA</th>\n",
       "    </tr>\n",
       "    <tr>\n",
       "      <th>year_of_release</th>\n",
       "      <th></th>\n",
       "      <th></th>\n",
       "      <th></th>\n",
       "    </tr>\n",
       "  </thead>\n",
       "  <tbody>\n",
       "    <tr>\n",
       "      <th>2001</th>\n",
       "      <td>0.0%</td>\n",
       "      <td>0.0%</td>\n",
       "      <td>5.75%</td>\n",
       "    </tr>\n",
       "    <tr>\n",
       "      <th>2002</th>\n",
       "      <td>0.0%</td>\n",
       "      <td>0.0%</td>\n",
       "      <td>4.35%</td>\n",
       "    </tr>\n",
       "    <tr>\n",
       "      <th>2003</th>\n",
       "      <td>0.0%</td>\n",
       "      <td>0.0%</td>\n",
       "      <td>3.75%</td>\n",
       "    </tr>\n",
       "    <tr>\n",
       "      <th>2004</th>\n",
       "      <td>0.0%</td>\n",
       "      <td>0.53%</td>\n",
       "      <td>5.24%</td>\n",
       "    </tr>\n",
       "    <tr>\n",
       "      <th>2005</th>\n",
       "      <td>0.0%</td>\n",
       "      <td>15.07%</td>\n",
       "      <td>1.18%</td>\n",
       "    </tr>\n",
       "    <tr>\n",
       "      <th>2006</th>\n",
       "      <td>0.0%</td>\n",
       "      <td>11.39%</td>\n",
       "      <td>0.4%</td>\n",
       "    </tr>\n",
       "    <tr>\n",
       "      <th>2007</th>\n",
       "      <td>0.0%</td>\n",
       "      <td>12.16%</td>\n",
       "      <td>0.0%</td>\n",
       "    </tr>\n",
       "    <tr>\n",
       "      <th>2008</th>\n",
       "      <td>0.0%</td>\n",
       "      <td>9.84%</td>\n",
       "      <td>0.0%</td>\n",
       "    </tr>\n",
       "    <tr>\n",
       "      <th>2009</th>\n",
       "      <td>0.0%</td>\n",
       "      <td>6.19%</td>\n",
       "      <td>0.0%</td>\n",
       "    </tr>\n",
       "    <tr>\n",
       "      <th>2010</th>\n",
       "      <td>0.0%</td>\n",
       "      <td>3.97%</td>\n",
       "      <td>0.0%</td>\n",
       "    </tr>\n",
       "    <tr>\n",
       "      <th>2011</th>\n",
       "      <td>6.86%</td>\n",
       "      <td>0.68%</td>\n",
       "      <td>0.0%</td>\n",
       "    </tr>\n",
       "    <tr>\n",
       "      <th>2012</th>\n",
       "      <td>6.18%</td>\n",
       "      <td>0.16%</td>\n",
       "      <td>0.0%</td>\n",
       "    </tr>\n",
       "    <tr>\n",
       "      <th>2013</th>\n",
       "      <td>2.49%</td>\n",
       "      <td>0.0%</td>\n",
       "      <td>0.0%</td>\n",
       "    </tr>\n",
       "    <tr>\n",
       "      <th>2014</th>\n",
       "      <td>1.8%</td>\n",
       "      <td>0.0%</td>\n",
       "      <td>0.0%</td>\n",
       "    </tr>\n",
       "    <tr>\n",
       "      <th>2015</th>\n",
       "      <td>1.66%</td>\n",
       "      <td>0.0%</td>\n",
       "      <td>0.0%</td>\n",
       "    </tr>\n",
       "    <tr>\n",
       "      <th>2016</th>\n",
       "      <td>0.34%</td>\n",
       "      <td>0.0%</td>\n",
       "      <td>0.0%</td>\n",
       "    </tr>\n",
       "  </tbody>\n",
       "</table>\n",
       "</div>"
      ],
      "text/plain": [
       "platform           3DS      DS    GBA\n",
       "year_of_release                      \n",
       "2001              0.0%    0.0%  5.75%\n",
       "2002              0.0%    0.0%  4.35%\n",
       "2003              0.0%    0.0%  3.75%\n",
       "2004              0.0%   0.53%  5.24%\n",
       "2005              0.0%  15.07%  1.18%\n",
       "2006              0.0%  11.39%   0.4%\n",
       "2007              0.0%  12.16%   0.0%\n",
       "2008              0.0%   9.84%   0.0%\n",
       "2009              0.0%   6.19%   0.0%\n",
       "2010              0.0%   3.97%   0.0%\n",
       "2011             6.86%   0.68%   0.0%\n",
       "2012             6.18%   0.16%   0.0%\n",
       "2013             2.49%    0.0%   0.0%\n",
       "2014              1.8%    0.0%   0.0%\n",
       "2015             1.66%    0.0%   0.0%\n",
       "2016             0.34%    0.0%   0.0%"
      ]
     },
     "metadata": {},
     "output_type": "display_data"
    }
   ],
   "source": [
    "# playstation distribution\n",
    "\n",
    "playstation_distribution = (\n",
    "    games.query(\"platform in ['PS', 'PS2', 'PS3', 'PSV']\")\n",
    "    .groupby([\"year_of_release\", \"platform\"])[\"total_sales\"]\n",
    "    .sum()\n",
    "    .unstack()  # Makes platforms columns for better readability\n",
    ")\n",
    "\n",
    "# xbox distribution\n",
    "\n",
    "xbox_distribution = (\n",
    "    games.query(\"platform in ['X360', 'XB', 'XOne']\")\n",
    "    .groupby([\"year_of_release\", \"platform\"])[\"total_sales\"]\n",
    "    .sum()\n",
    "    .unstack()  # Makes platforms columns for better readability\n",
    ")\n",
    "\n",
    "# nintendo distribution\n",
    "\n",
    "nintendo_distribution = (\n",
    "    games.query(\"platform in ['Wii','WiiU']\")\n",
    "    .groupby([\"year_of_release\", \"platform\"])[\"total_sales\"]\n",
    "    .sum()\n",
    "    .unstack()  # Makes platforms columns for better readability\n",
    ")\n",
    "\n",
    "# gameboy distribution\n",
    "\n",
    "gameboy_distribution = (\n",
    "    games.query(\"platform in ['DS', 'GB', 'GBA', '3DS']\")\n",
    "    .groupby([\"year_of_release\", \"platform\"])[\"total_sales\"]\n",
    "    .sum()\n",
    "    .unstack()  # Makes platforms columns for better readability\n",
    ")\n",
    "\n",
    "# Fill NaN values with 0 before percentage calculation\n",
    "playstation_distribution = playstation_distribution.fillna(0)\n",
    "xbox_distribution = xbox_distribution.fillna(0)\n",
    "nintendo_distribution = nintendo_distribution.fillna(0)\n",
    "gameboy_distribution = gameboy_distribution.fillna(0)\n",
    "\n",
    "# calculate the percentage of sales per year\n",
    "\n",
    "playstation_distribution = (playstation_distribution / playstation_sales * 100).round(2)\n",
    "xbox_distribution = (xbox_distribution / xbox_sales * 100).round(2)\n",
    "nintendo_distribution = (nintendo_distribution / nintendo_sales * 100).round(2)\n",
    "gameboy_distribution = (gameboy_distribution / gameboy_sales * 100).round(2)\n",
    "\n",
    "# Convert to string and add percentage sign\n",
    "playstation_distribution = playstation_distribution.astype(str) + '%'\n",
    "xbox_distribution = xbox_distribution.astype(str) + '%'\n",
    "nintendo_distribution = nintendo_distribution.astype(str) + '%'\n",
    "gameboy_distribution = gameboy_distribution.astype(str) + '%'\n",
    "\n",
    "display(\"Distribution by Year:\")\n",
    "display(playstation_distribution, xbox_distribution, nintendo_distribution, gameboy_distribution)\n"
   ]
  },
  {
   "cell_type": "markdown",
   "metadata": {},
   "source": [
    "Based on these distributions. It looks to take roughly 7-10 years for a platform to hit a 0% sales, typically a year or so after the next generation of that platform is released. Additionally, It appears that the platforms will hit their peak sales after 3-4 years from release before they start to taper down.\n"
   ]
  },
  {
   "cell_type": "markdown",
   "metadata": {},
   "source": [
    "Based on the trends. the XboxOne is going to be at their peak post release time of four years in 2017, this would give us the best data to pull from for this project. So lets look at XboxOne data for marketing."
   ]
  },
  {
   "cell_type": "code",
   "execution_count": 130,
   "metadata": {},
   "outputs": [
    {
     "data": {
      "image/png": "[encoded data removed]",
      "text/plain": [
       "<Figure size 1200x600 with 1 Axes>"
      ]
     },
     "metadata": {},
     "output_type": "display_data"
    },
    {
     "data": {
      "text/plain": [
       "'Average Sales per Platform (millions):'"
      ]
     },
     "metadata": {},
     "output_type": "display_data"
    },
    {
     "data": {
      "text/plain": [
       "platform\n",
       "PS      1.377667\n",
       "Wii     1.375720\n",
       "PS3     1.020091\n",
       "PS4     1.016736\n",
       "X360    0.994452\n",
       "PS2     0.829833\n",
       "DS      0.823750\n",
       "XOne    0.814340\n",
       "3DS     0.794968\n",
       "WiiU    0.742472\n",
       "GBA     0.555696\n",
       "PSP     0.481231\n",
       "GC      0.457615\n",
       "XB      0.375097\n",
       "DC      0.325000\n",
       "PC      0.286365\n",
       "PSV     0.261271\n",
       "Name: total_sales, dtype: float64"
      ]
     },
     "metadata": {},
     "output_type": "display_data"
    }
   ],
   "source": [
    "# boxplot of global game sales by platform\n",
    "plt.figure(figsize=(12, 6))\n",
    "sns.boxplot(x=\"platform\", y=\"total_sales\", data=games)\n",
    "\n",
    "plt.yscale(\"log\")  # Use log scale to better visualize variations\n",
    "plt.xticks(rotation=45)  # Rotate platform names for readability\n",
    "plt.xlabel(\"Platform\")\n",
    "plt.ylabel(\"Global Sales (millions)\")\n",
    "plt.title(\"Box Plot of Global Game Sales by Platform\")\n",
    "\n",
    "# Show plot\n",
    "plt.show()\n",
    "\n",
    "# Calculate average sales per platform\n",
    "average_sales = games.groupby(\"platform\")[\"total_sales\"].mean().sort_values(ascending=False)\n",
    "\n",
    "# Display results\n",
    "display(\"Average Sales per Platform (millions):\")\n",
    "display(average_sales)\n"
   ]
  },
  {
   "cell_type": "code",
   "execution_count": 131,
   "metadata": {},
   "outputs": [
    {
     "data": {
      "application/vnd.plotly.v1+json": {
       "config": {
        "plotlyServerURL": "https://plot.ly"
       },
       "data": [
        {
         "customdata": [
          [
           "Grand Theft Auto V",
           2.81,
           0,
           2.19,
           0.47
          ],
          [
           "Call of Duty: Advanced Warfare",
           3.22,
           0.01,
           1.55,
           0.48
          ],
          [
           "Halo 5: Guardians",
           2.78,
           0.03,
           1.27,
           0.41
          ],
          [
           "Fallout 4",
           2.51,
           0.01,
           1.32,
           0.38
          ],
          [
           "Assassin's Creed: Unity",
           2.27,
           0,
           0.9,
           0.33
          ],
          [
           "Destiny",
           2.14,
           0,
           0.92,
           0.31
          ],
          [
           "Gears of War: Ultimate Edition",
           2.61,
           0,
           0.33,
           0.34
          ],
          [
           "FIFA 16",
           0.89,
           0,
           2.12,
           0.24
          ],
          [
           "Halo: The Master Chief Collection",
           1.91,
           0.03,
           1,
           0.29
          ],
          [
           "Titanfall",
           1.84,
           0.04,
           0.8,
           0.27
          ],
          [
           "Call of Duty: Ghosts",
           1.88,
           0,
           0.77,
           0.27
          ],
          [
           "FIFA 17",
           0.43,
           0,
           2.05,
           0.17
          ],
          [
           "Call of Duty: Infinite Warfare",
           1.46,
           0,
           0.74,
           0.22
          ],
          [
           "Madden NFL 16",
           2.08,
           0,
           0.08,
           0.26
          ],
          [
           "NBA 2K16",
           1.95,
           0,
           0.15,
           0.24
          ],
          [
           "Battlefield 1",
           1.28,
           0,
           0.77,
           0.2
          ],
          [
           "Forza Motorsport 5",
           1.21,
           0.01,
           0.79,
           0.19
          ],
          [
           "FIFA 15",
           0.6,
           0,
           1.42,
           0.16
          ],
          [
           "Tom Clancy's The Division",
           1.29,
           0,
           0.68,
           0.2
          ],
          [
           "Battlefield 4",
           1.25,
           0,
           0.58,
           0.19
          ],
          [
           "Forza Motorsport 6",
           0.73,
           0.03,
           0.9,
           0.14
          ],
          [
           "NBA 2K15",
           1.37,
           0,
           0.18,
           0.18
          ],
          [
           "Far Cry 4",
           0.8,
           0.01,
           0.69,
           0.14
          ],
          [
           "Dead Rising 3",
           1.06,
           0.01,
           0.35,
           0.15
          ],
          [
           "Watch Dogs",
           0.9,
           0,
           0.53,
           0.14
          ],
          [
           "Madden NFL 15",
           1.31,
           0,
           0.09,
           0.16
          ],
          [
           "Batman: Arkham Knight",
           0.88,
           0,
           0.47,
           0.14
          ],
          [
           "Forza Horizon 2",
           0.5,
           0.01,
           0.78,
           0.11
          ],
          [
           "Ryse: Son of Rome",
           0.83,
           0,
           0.43,
           0.13
          ],
          [
           "Mortal Kombat X",
           1.03,
           0,
           0.21,
           0.14
          ],
          [
           "Rise of the Tomb Raider",
           0.55,
           0.02,
           0.7,
           0.11
          ],
          [
           "Middle-Earth: Shadow of Mordor",
           0.73,
           0.01,
           0.5,
           0.12
          ],
          [
           "Gears of War 4",
           0.78,
           0,
           0.44,
           0.12
          ],
          [
           "Tom Clancy's Rainbow Six: Siege",
           0.77,
           0,
           0.45,
           0.12
          ],
          [
           "The Witcher 3: Wild Hunt",
           0.69,
           0,
           0.5,
           0.11
          ],
          [
           "Assassin's Creed Syndicate",
           0.62,
           0,
           0.56,
           0.11
          ],
          [
           "Dying Light",
           0.86,
           0.01,
           0.3,
           0.12
          ],
          [
           "The Elder Scrolls Online",
           0.78,
           0,
           0.38,
           0.12
          ],
          [
           "Madden NFL 17",
           1.08,
           0,
           0.02,
           0.13
          ],
          [
           "Battlefield: Hardline",
           0.72,
           0.01,
           0.37,
           0.11
          ],
          [
           "Destiny: The Taken King",
           0.85,
           0,
           0.23,
           0.12
          ],
          [
           "FIFA 14",
           0.41,
           0,
           0.66,
           0.09
          ],
          [
           "Sunset Overdrive",
           0.63,
           0,
           0.4,
           0.1
          ],
          [
           "Forza Horizon 3",
           0.42,
           0,
           0.58,
           0.08
          ],
          [
           "Overwatch",
           0.63,
           0,
           0.33,
           0.1
          ],
          [
           "NBA 2K17",
           0.86,
           0,
           0.06,
           0.11
          ],
          [
           "Dragon Age: Inquisition",
           0.56,
           0,
           0.28,
           0.09
          ],
          [
           "NBA 2K14",
           0.7,
           0,
           0.11,
           0.09
          ],
          [
           "Just Cause 3",
           0.44,
           0,
           0.39,
           0.08
          ],
          [
           "Far Cry: Primal",
           0.47,
           0,
           0.33,
           0.08
          ],
          [
           "Madden NFL 25",
           0.67,
           0,
           0.05,
           0.08
          ],
          [
           "Rare Replay",
           0.49,
           0.01,
           0.22,
           0.07
          ],
          [
           "Metal Gear Solid V: The Phantom Pain",
           0.41,
           0.01,
           0.26,
           0.07
          ],
          [
           "Plants vs. Zombies: Garden Warfare",
           0.39,
           0,
           0.23,
           0.06
          ],
          [
           "Need for Speed Rivals",
           0.46,
           0,
           0.17,
           0.07
          ],
          [
           "Wolfenstein: The New Order",
           0.34,
           0,
           0.28,
           0.06
          ],
          [
           "The Evil Within",
           0.35,
           0,
           0.25,
           0.06
          ],
          [
           "LEGO Jurassic World",
           0.38,
           0,
           0.22,
           0.06
          ],
          [
           "The Crew",
           0.25,
           0,
           0.34,
           0.05
          ],
          [
           "Evolve",
           0.37,
           0,
           0.2,
           0.06
          ],
          [
           "Mafia III",
           0.28,
           0,
           0.29,
           0.05
          ],
          [
           "Kinect Sports Rivals",
           0.3,
           0.02,
           0.23,
           0.05
          ],
          [
           "WWE 2K16",
           0.32,
           0,
           0.22,
           0.05
          ],
          [
           "Titanfall 2",
           0.37,
           0,
           0.15,
           0.05
          ],
          [
           "WWE 2K15",
           0.29,
           0,
           0.23,
           0.05
          ],
          [
           "Quantum Break",
           0.3,
           0.01,
           0.2,
           0.05
          ],
          [
           "Guitar Hero Live",
           0.3,
           0,
           0.2,
           0.05
          ],
          [
           "Just Dance 2015",
           0.35,
           0,
           0.13,
           0.05
          ],
          [
           "The LEGO Movie Videogame",
           0.35,
           0,
           0.13,
           0.05
          ],
          [
           "Alien: Isolation",
           0.22,
           0,
           0.24,
           0.04
          ],
          [
           "Plants vs. Zombies: Garden Warfare 2",
           0.29,
           0,
           0.15,
           0.04
          ],
          [
           "NHL 16",
           0.38,
           0,
           0.05,
           0.05
          ],
          [
           "Rock Band 4",
           0.38,
           0,
           0.04,
           0.05
          ],
          [
           "EA Sports UFC",
           0.3,
           0,
           0.12,
           0.04
          ],
          [
           "Just Dance 2014",
           0.3,
           0,
           0.11,
           0.04
          ],
          [
           "Borderlands: The Handsome Collection",
           0.26,
           0,
           0.13,
           0.04
          ],
          [
           "Lego Batman 3: Beyond Gotham",
           0.23,
           0,
           0.17,
           0.04
          ],
          [
           "EA Sports UFC 2",
           0.24,
           0,
           0.14,
           0.04
          ],
          [
           "LEGO Dimensions",
           0.22,
           0,
           0.15,
           0.04
          ],
          [
           "NHL 15",
           0.31,
           0,
           0.06,
           0.04
          ],
          [
           "Watch Dogs 2",
           0.17,
           0,
           0.16,
           0.03
          ],
          [
           "LEGO Marvel's Avengers",
           0.19,
           0,
           0.12,
           0.03
          ],
          [
           "Sniper Elite 3",
           0.2,
           0,
           0.11,
           0.03
          ],
          [
           "Rayman Legends",
           0.13,
           0,
           0.18,
           0.03
          ],
          [
           "Just Dance 2016",
           0.25,
           0,
           0.04,
           0.03
          ],
          [
           "Dragon Ball: XenoVerse",
           0.18,
           0,
           0.11,
           0.03
          ],
          [
           "Naruto Shippuden: Ultimate Ninja Storm 4",
           0.21,
           0,
           0.07,
           0.03
          ],
          [
           "Lego Star Wars: The Force Awakens",
           0.14,
           0,
           0.13,
           0.02
          ],
          [
           "Metal Gear Solid V: Ground Zeroes",
           0.15,
           0,
           0.11,
           0.02
          ],
          [
           "Rory McIlroy PGA Tour",
           0.16,
           0,
           0.09,
           0.02
          ],
          [
           "LEGO The Hobbit",
           0.13,
           0,
           0.12,
           0.02
          ],
          [
           "WWE 2K17",
           0.12,
           0,
           0.12,
           0.02
          ],
          [
           "Project CARS",
           0.11,
           0,
           0.13,
           0.02
          ],
          [
           "F1 2015",
           0.08,
           0,
           0.15,
           0.02
          ],
          [
           "Trials Fusion",
           0.12,
           0,
           0.1,
           0.02
          ],
          [
           "Skylanders: SuperChargers",
           0.17,
           0,
           0.05,
           0.02
          ],
          [
           "NHL 17",
           0.2,
           0,
           0.01,
           0.03
          ],
          [
           "Zumba Fitness: World Party",
           0.17,
           0,
           0.05,
           0.02
          ],
          [
           "Rocket League",
           0.05,
           0,
           0.17,
           0.02
          ],
          [
           "Dishonored 2",
           0.12,
           0,
           0.08,
           0.02
          ],
          [
           "Lords of the Fallen",
           0.1,
           0,
           0.1,
           0.02
          ],
          [
           "NBA Live 15",
           0.17,
           0,
           0.02,
           0.02
          ],
          [
           "NBA Live 14",
           0.16,
           0,
           0.02,
           0.02
          ],
          [
           "Dragon Ball: Xenoverse 2",
           0.11,
           0,
           0.07,
           0.02
          ],
          [
           "Fighter Within",
           0.11,
           0,
           0.07,
           0.02
          ],
          [
           "Dance Central: Spotlight",
           0.15,
           0,
           0.03,
           0
          ],
          [
           "Shape Up",
           0.08,
           0,
           0.09,
           0.01
          ],
          [
           "Project Spark",
           0.11,
           0,
           0.05,
           0.02
          ],
          [
           "Deus Ex: Mankind Divided",
           0.09,
           0,
           0.06,
           0.01
          ],
          [
           "Mirror's Edge Catalyst",
           0.09,
           0,
           0.06,
           0.01
          ],
          [
           "Murdered: Soul Suspect",
           0.08,
           0,
           0.07,
           0.01
          ],
          [
           "Angry Birds Star Wars",
           0.11,
           0,
           0.04,
           0.02
          ],
          [
           "BioShock The Collection",
           0.08,
           0,
           0.06,
           0.01
          ],
          [
           "Fantasia: Music Evolved",
           0.11,
           0,
           0.03,
           0.01
          ],
          [
           "Battleborn",
           0.1,
           0,
           0.04,
           0.01
          ],
          [
           "ReCore",
           0.08,
           0,
           0.05,
           0.01
          ],
          [
           "Pro Evolution Soccer 2015",
           0.03,
           0,
           0.1,
           0.01
          ],
          [
           "Homefront: The Revolution",
           0.06,
           0,
           0.07,
           0.01
          ],
          [
           "Transformers: Devastation",
           0.09,
           0,
           0.04,
           0.01
          ],
          [
           "Life is Strange",
           0.09,
           0,
           0.03,
           0.01
          ],
          [
           "DiRT Rally",
           0.04,
           0,
           0.08,
           0.01
          ],
          [
           "Tony Hawk's Pro Skater 5",
           0.09,
           0,
           0.02,
           0.01
          ],
          [
           "Batman: Return to Arkham",
           0.05,
           0,
           0.05,
           0.01
          ],
          [
           "NBA Live 16",
           0.09,
           0,
           0.01,
           0.01
          ],
          [
           "Pro Evolution Soccer 2016",
           0.04,
           0,
           0.06,
           0.01
          ],
          [
           "Ride",
           0.04,
           0,
           0.05,
           0.01
          ],
          [
           "Resident Evil: Revelations 2",
           0.07,
           0,
           0.02,
           0.01
          ],
          [
           "Skylanders Imaginators",
           0.05,
           0,
           0.04,
           0.01
          ],
          [
           "Rugby 15",
           0.03,
           0,
           0.05,
           0.01
          ],
          [
           "Assassin's Creed The Ezio Collection",
           0.03,
           0,
           0.04,
           0.01
          ],
          [
           "Dynasty Warriors 8: Empires",
           0.04,
           0,
           0.02,
           0.01
          ],
          [
           "One Piece: Burning Blood",
           0.03,
           0,
           0.02,
           0.01
          ],
          [
           "TrackMania Turbo",
           0.02,
           0,
           0.04,
           0
          ],
          [
           "Song of the Deep",
           0.05,
           0,
           0,
           0.01
          ],
          [
           "7 Days to Die",
           0.03,
           0,
           0.02,
           0
          ],
          [
           "Dead Island Definitive Collection",
           0.02,
           0,
           0.03,
           0
          ],
          [
           "Bladestorm: Nightmare",
           0.03,
           0,
           0.02,
           0
          ],
          [
           "Wasteland 2",
           0.04,
           0,
           0.01,
           0.01
          ],
          [
           "Pro Evolution Soccer 2017",
           0.01,
           0,
           0.03,
           0
          ],
          [
           "XCOM 2",
           0.02,
           0,
           0.02,
           0
          ],
          [
           "Resident Evil 6",
           0.04,
           0,
           0,
           0
          ],
          [
           "Teenage Mutant Ninja Turtles: Mutants in Manhattan",
           0.03,
           0,
           0.01,
           0
          ],
          [
           "Brothers: A Tale of Two Sons",
           0.03,
           0,
           0.01,
           0
          ],
          [
           "Terraria",
           0,
           0,
           0.04,
           0
          ],
          [
           "Just Dance 2017",
           0.03,
           0,
           0,
           0
          ],
          [
           "The Golf Club",
           0.03,
           0,
           0,
           0
          ],
          [
           "Valentino Rossi: The Game",
           0.01,
           0,
           0.02,
           0
          ],
          [
           "The Technomancer",
           0.01,
           0,
           0.01,
           0
          ],
          [
           "Carmageddon: Max Damage",
           0.01,
           0,
           0.01,
           0
          ],
          [
           "Mighty No. 9",
           0.02,
           0,
           0,
           0
          ],
          [
           "The Crew: Wild Run",
           0,
           0,
           0.02,
           0
          ],
          [
           "Broken Sword 5: The Serpent's Curse",
           0,
           0,
           0.02,
           0
          ],
          [
           "Assetto Corsa",
           0,
           0,
           0.01,
           0
          ],
          [
           "Darksiders: Warmastered Edition",
           0.01,
           0,
           0,
           0
          ],
          [
           "Worms: WMD",
           0.01,
           0,
           0,
           0
          ],
          [
           "Prototype: Biohazard Bundle",
           0.01,
           0,
           0,
           0
          ],
          [
           "Goat Simulator",
           0,
           0,
           0.01,
           0
          ],
          [
           "Saints Row: Gat out of Hell",
           0,
           0,
           0.01,
           0
          ],
          [
           "Sébastien Loeb Rally Evo",
           0,
           0,
           0.01,
           0
          ]
         ],
         "hovertemplate": "User Reviews=%{x}<br>Total Sales (millions)=%{y}<br>name=%{customdata[0]}<br>na_sales=%{customdata[1]}<br>jp_sales=%{customdata[2]}<br>eu_sales=%{customdata[3]}<br>other_sales=%{customdata[4]}<extra></extra>",
         "legendgroup": "",
         "marker": {
          "color": "#636efa",
          "symbol": "circle"
         },
         "mode": "markers",
         "name": "",
         "orientation": "v",
         "showlegend": false,
         "type": "scatter",
         "x": [
          7.9,
          5.4,
          6.4,
          6.2,
          4.1,
          5.5,
          7.5,
          4.4,
          7.2,
          6.4,
          4.3,
          5.5,
          3.1,
          6.1,
          6.2,
          8.2,
          5.9,
          5.4,
          6.9,
          6.6,
          7.9,
          6.3,
          7.5,
          6.8,
          5.8,
          6.4,
          6.6,
          8.2,
          6.1,
          7.3,
          8,
          8,
          6.2,
          6.9,
          9.2,
          6.1,
          7.8,
          8.4,
          5.9,
          5.1,
          5.2,
          5.8,
          7.7,
          7.4,
          5.6,
          6.2,
          6.9,
          5.7,
          7,
          6.4,
          5.9,
          7.7,
          7.3,
          7.4,
          5.8,
          7.8,
          7.3,
          6.7,
          5.9,
          5.1,
          4.6,
          5.1,
          5.7,
          8,
          5.7,
          6.8,
          5.1,
          7.5,
          6.9,
          7.8,
          8.1,
          6,
          6.4,
          6.3,
          7,
          7.8,
          7.1,
          6,
          6.9,
          3.2,
          7.7,
          5.1,
          6.6,
          7.9,
          6.1,
          7.2,
          8.5,
          7,
          5.4,
          4.3,
          6.8,
          5.5,
          5.8,
          5.3,
          7.1,
          5.5,
          4,
          6.2,
          8.3,
          6.8,
          6.7,
          6.8,
          3.1,
          7.3,
          3,
          7,
          8.3,
          7,
          7.2,
          4.4,
          7,
          6.9,
          8.3,
          7.5,
          7.2,
          6.6,
          7.3,
          4.1,
          7.9,
          8.7,
          8,
          2.1,
          8.2,
          5.6,
          6.2,
          5.3,
          7.5,
          6,
          3.1,
          7.6,
          6.8,
          5.8,
          7.7,
          6.9,
          5.2,
          4.9,
          7.1,
          7.1,
          6.1,
          8.1,
          6.3,
          6,
          8.9,
          7.7,
          8,
          5.4,
          8.1,
          7.4,
          7.1,
          4.2,
          6.6,
          7.2,
          6.7,
          7.9,
          8.1,
          3.1,
          6.3,
          6,
          8.2
         ],
         "xaxis": "x",
         "y": [
          5.47,
          5.26,
          4.49,
          4.22,
          3.5,
          3.37,
          3.28,
          3.25,
          3.23,
          2.95,
          2.92,
          2.65,
          2.4200000000000004,
          2.42,
          2.34,
          2.25,
          2.1999999999999997,
          2.18,
          2.1700000000000004,
          2.02,
          1.7999999999999998,
          1.73,
          1.6400000000000001,
          1.57,
          1.5700000000000003,
          1.56,
          1.4900000000000002,
          1.4000000000000001,
          1.3900000000000001,
          1.38,
          1.3800000000000001,
          1.3599999999999999,
          1.3399999999999999,
          1.3399999999999999,
          1.3,
          1.2900000000000003,
          1.29,
          1.2800000000000002,
          1.23,
          1.21,
          1.2000000000000002,
          1.1600000000000001,
          1.1300000000000001,
          1.08,
          1.06,
          1.03,
          0.93,
          0.8999999999999999,
          0.91,
          0.88,
          0.8,
          0.79,
          0.75,
          0.6799999999999999,
          0.7,
          0.6800000000000002,
          0.6599999999999999,
          0.6599999999999999,
          0.6400000000000001,
          0.6300000000000001,
          0.6200000000000001,
          0.6000000000000001,
          0.5900000000000001,
          0.5700000000000001,
          0.5700000000000001,
          0.56,
          0.55,
          0.53,
          0.53,
          0.49999999999999994,
          0.4799999999999999,
          0.48,
          0.47,
          0.45999999999999996,
          0.44999999999999996,
          0.43,
          0.44,
          0.42,
          0.41,
          0.41,
          0.36,
          0.33999999999999997,
          0.33999999999999997,
          0.33999999999999997,
          0.31999999999999995,
          0.31999999999999995,
          0.31000000000000005,
          0.29000000000000004,
          0.28,
          0.27,
          0.27,
          0.26,
          0.26,
          0.24999999999999997,
          0.24,
          0.24000000000000002,
          0.24000000000000002,
          0.24000000000000002,
          0.24000000000000002,
          0.22,
          0.22,
          0.21,
          0.19999999999999998,
          0.19999999999999998,
          0.19999999999999998,
          0.18,
          0.18,
          0.18,
          0.16,
          0.16,
          0.16000000000000003,
          0.16999999999999998,
          0.15000000000000002,
          0.15000000000000002,
          0.15000000000000002,
          0.14,
          0.14,
          0.14,
          0.14,
          0.13,
          0.13,
          0.12,
          0.11,
          0.10999999999999999,
          0.11,
          0.09999999999999999,
          0.1,
          0.09999999999999999,
          0.09,
          0.08,
          0.06999999999999999,
          0.060000000000000005,
          0.06,
          0.060000000000000005,
          0.05,
          0.05,
          0.05,
          0.060000000000000005,
          0.04,
          0.04,
          0.04,
          0.04,
          0.04,
          0.04,
          0.03,
          0.03,
          0.03,
          0.02,
          0.02,
          0.02,
          0.02,
          0.02,
          0.01,
          0.01,
          0.01,
          0.01,
          0.01,
          0.01,
          0.01
         ],
         "yaxis": "y"
        }
       ],
       "layout": {
        "legend": {
         "tracegroupgap": 0
        },
        "template": {
         "data": {
          "bar": [
           {
            "error_x": {
             "color": "#2a3f5f"
            },
            "error_y": {
             "color": "#2a3f5f"
            },
            "marker": {
             "line": {
              "color": "#E5ECF6",
              "width": 0.5
             },
             "pattern": {
              "fillmode": "overlay",
              "size": 10,
              "solidity": 0.2
             }
            },
            "type": "bar"
           }
          ],
          "barpolar": [
           {
            "marker": {
             "line": {
              "color": "#E5ECF6",
              "width": 0.5
             },
             "pattern": {
              "fillmode": "overlay",
              "size": 10,
              "solidity": 0.2
             }
            },
            "type": "barpolar"
           }
          ],
          "carpet": [
           {
            "aaxis": {
             "endlinecolor": "#2a3f5f",
             "gridcolor": "white",
             "linecolor": "white",
             "minorgridcolor": "white",
             "startlinecolor": "#2a3f5f"
            },
            "baxis": {
             "endlinecolor": "#2a3f5f",
             "gridcolor": "white",
             "linecolor": "white",
             "minorgridcolor": "white",
             "startlinecolor": "#2a3f5f"
            },
            "type": "carpet"
           }
          ],
          "choropleth": [
           {
            "colorbar": {
             "outlinewidth": 0,
             "ticks": ""
            },
            "type": "choropleth"
           }
          ],
          "contour": [
           {
            "colorbar": {
             "outlinewidth": 0,
             "ticks": ""
            },
            "colorscale": [
             [
              0,
              "#0d0887"
             ],
             [
              0.1111111111111111,
              "#46039f"
             ],
             [
              0.2222222222222222,
              "#7201a8"
             ],
             [
              0.3333333333333333,
              "#9c179e"
             ],
             [
              0.4444444444444444,
              "#bd3786"
             ],
             [
              0.5555555555555556,
              "#d8576b"
             ],
             [
              0.6666666666666666,
              "#ed7953"
             ],
             [
              0.7777777777777778,
              "#fb9f3a"
             ],
             [
              0.8888888888888888,
              "#fdca26"
             ],
             [
              1,
              "#f0f921"
             ]
            ],
            "type": "contour"
           }
          ],
          "contourcarpet": [
           {
            "colorbar": {
             "outlinewidth": 0,
             "ticks": ""
            },
            "type": "contourcarpet"
           }
          ],
          "heatmap": [
           {
            "colorbar": {
             "outlinewidth": 0,
             "ticks": ""
            },
            "colorscale": [
             [
              0,
              "#0d0887"
             ],
             [
              0.1111111111111111,
              "#46039f"
             ],
             [
              0.2222222222222222,
              "#7201a8"
             ],
             [
              0.3333333333333333,
              "#9c179e"
             ],
             [
              0.4444444444444444,
              "#bd3786"
             ],
             [
              0.5555555555555556,
              "#d8576b"
             ],
             [
              0.6666666666666666,
              "#ed7953"
             ],
             [
              0.7777777777777778,
              "#fb9f3a"
             ],
             [
              0.8888888888888888,
              "#fdca26"
             ],
             [
              1,
              "#f0f921"
             ]
            ],
            "type": "heatmap"
           }
          ],
          "heatmapgl": [
           {
            "colorbar": {
             "outlinewidth": 0,
             "ticks": ""
            },
            "colorscale": [
             [
              0,
              "#0d0887"
             ],
             [
              0.1111111111111111,
              "#46039f"
             ],
             [
              0.2222222222222222,
              "#7201a8"
             ],
             [
              0.3333333333333333,
              "#9c179e"
             ],
             [
              0.4444444444444444,
              "#bd3786"
             ],
             [
              0.5555555555555556,
              "#d8576b"
             ],
             [
              0.6666666666666666,
              "#ed7953"
             ],
             [
              0.7777777777777778,
              "#fb9f3a"
             ],
             [
              0.8888888888888888,
              "#fdca26"
             ],
             [
              1,
              "#f0f921"
             ]
            ],
            "type": "heatmapgl"
           }
          ],
          "histogram": [
           {
            "marker": {
             "pattern": {
              "fillmode": "overlay",
              "size": 10,
              "solidity": 0.2
             }
            },
            "type": "histogram"
           }
          ],
          "histogram2d": [
           {
            "colorbar": {
             "outlinewidth": 0,
             "ticks": ""
            },
            "colorscale": [
             [
              0,
              "#0d0887"
             ],
             [
              0.1111111111111111,
              "#46039f"
             ],
             [
              0.2222222222222222,
              "#7201a8"
             ],
             [
              0.3333333333333333,
              "#9c179e"
             ],
             [
              0.4444444444444444,
              "#bd3786"
             ],
             [
              0.5555555555555556,
              "#d8576b"
             ],
             [
              0.6666666666666666,
              "#ed7953"
             ],
             [
              0.7777777777777778,
              "#fb9f3a"
             ],
             [
              0.8888888888888888,
              "#fdca26"
             ],
             [
              1,
              "#f0f921"
             ]
            ],
            "type": "histogram2d"
           }
          ],
          "histogram2dcontour": [
           {
            "colorbar": {
             "outlinewidth": 0,
             "ticks": ""
            },
            "colorscale": [
             [
              0,
              "#0d0887"
             ],
             [
              0.1111111111111111,
              "#46039f"
             ],
             [
              0.2222222222222222,
              "#7201a8"
             ],
             [
              0.3333333333333333,
              "#9c179e"
             ],
             [
              0.4444444444444444,
              "#bd3786"
             ],
             [
              0.5555555555555556,
              "#d8576b"
             ],
             [
              0.6666666666666666,
              "#ed7953"
             ],
             [
              0.7777777777777778,
              "#fb9f3a"
             ],
             [
              0.8888888888888888,
              "#fdca26"
             ],
             [
              1,
              "#f0f921"
             ]
            ],
            "type": "histogram2dcontour"
           }
          ],
          "mesh3d": [
           {
            "colorbar": {
             "outlinewidth": 0,
             "ticks": ""
            },
            "type": "mesh3d"
           }
          ],
          "parcoords": [
           {
            "line": {
             "colorbar": {
              "outlinewidth": 0,
              "ticks": ""
             }
            },
            "type": "parcoords"
           }
          ],
          "pie": [
           {
            "automargin": true,
            "type": "pie"
           }
          ],
          "scatter": [
           {
            "fillpattern": {
             "fillmode": "overlay",
             "size": 10,
             "solidity": 0.2
            },
            "type": "scatter"
           }
          ],
          "scatter3d": [
           {
            "line": {
             "colorbar": {
              "outlinewidth": 0,
              "ticks": ""
             }
            },
            "marker": {
             "colorbar": {
              "outlinewidth": 0,
              "ticks": ""
             }
            },
            "type": "scatter3d"
           }
          ],
          "scattercarpet": [
           {
            "marker": {
             "colorbar": {
              "outlinewidth": 0,
              "ticks": ""
             }
            },
            "type": "scattercarpet"
           }
          ],
          "scattergeo": [
           {
            "marker": {
             "colorbar": {
              "outlinewidth": 0,
              "ticks": ""
             }
            },
            "type": "scattergeo"
           }
          ],
          "scattergl": [
           {
            "marker": {
             "colorbar": {
              "outlinewidth": 0,
              "ticks": ""
             }
            },
            "type": "scattergl"
           }
          ],
          "scattermapbox": [
           {
            "marker": {
             "colorbar": {
              "outlinewidth": 0,
              "ticks": ""
             }
            },
            "type": "scattermapbox"
           }
          ],
          "scatterpolar": [
           {
            "marker": {
             "colorbar": {
              "outlinewidth": 0,
              "ticks": ""
             }
            },
            "type": "scatterpolar"
           }
          ],
          "scatterpolargl": [
           {
            "marker": {
             "colorbar": {
              "outlinewidth": 0,
              "ticks": ""
             }
            },
            "type": "scatterpolargl"
           }
          ],
          "scatterternary": [
           {
            "marker": {
             "colorbar": {
              "outlinewidth": 0,
              "ticks": ""
             }
            },
            "type": "scatterternary"
           }
          ],
          "surface": [
           {
            "colorbar": {
             "outlinewidth": 0,
             "ticks": ""
            },
            "colorscale": [
             [
              0,
              "#0d0887"
             ],
             [
              0.1111111111111111,
              "#46039f"
             ],
             [
              0.2222222222222222,
              "#7201a8"
             ],
             [
              0.3333333333333333,
              "#9c179e"
             ],
             [
              0.4444444444444444,
              "#bd3786"
             ],
             [
              0.5555555555555556,
              "#d8576b"
             ],
             [
              0.6666666666666666,
              "#ed7953"
             ],
             [
              0.7777777777777778,
              "#fb9f3a"
             ],
             [
              0.8888888888888888,
              "#fdca26"
             ],
             [
              1,
              "#f0f921"
             ]
            ],
            "type": "surface"
           }
          ],
          "table": [
           {
            "cells": {
             "fill": {
              "color": "#EBF0F8"
             },
             "line": {
              "color": "white"
             }
            },
            "header": {
             "fill": {
              "color": "#C8D4E3"
             },
             "line": {
              "color": "white"
             }
            },
            "type": "table"
           }
          ]
         },
         "layout": {
          "annotationdefaults": {
           "arrowcolor": "#2a3f5f",
           "arrowhead": 0,
           "arrowwidth": 1
          },
          "autotypenumbers": "strict",
          "coloraxis": {
           "colorbar": {
            "outlinewidth": 0,
            "ticks": ""
           }
          },
          "colorscale": {
           "diverging": [
            [
             0,
             "#8e0152"
            ],
            [
             0.1,
             "#c51b7d"
            ],
            [
             0.2,
             "#de77ae"
            ],
            [
             0.3,
             "#f1b6da"
            ],
            [
             0.4,
             "#fde0ef"
            ],
            [
             0.5,
             "#f7f7f7"
            ],
            [
             0.6,
             "#e6f5d0"
            ],
            [
             0.7,
             "#b8e186"
            ],
            [
             0.8,
             "#7fbc41"
            ],
            [
             0.9,
             "#4d9221"
            ],
            [
             1,
             "#276419"
            ]
           ],
           "sequential": [
            [
             0,
             "#0d0887"
            ],
            [
             0.1111111111111111,
             "#46039f"
            ],
            [
             0.2222222222222222,
             "#7201a8"
            ],
            [
             0.3333333333333333,
             "#9c179e"
            ],
            [
             0.4444444444444444,
             "#bd3786"
            ],
            [
             0.5555555555555556,
             "#d8576b"
            ],
            [
             0.6666666666666666,
             "#ed7953"
            ],
            [
             0.7777777777777778,
             "#fb9f3a"
            ],
            [
             0.8888888888888888,
             "#fdca26"
            ],
            [
             1,
             "#f0f921"
            ]
           ],
           "sequentialminus": [
            [
             0,
             "#0d0887"
            ],
            [
             0.1111111111111111,
             "#46039f"
            ],
            [
             0.2222222222222222,
             "#7201a8"
            ],
            [
             0.3333333333333333,
             "#9c179e"
            ],
            [
             0.4444444444444444,
             "#bd3786"
            ],
            [
             0.5555555555555556,
             "#d8576b"
            ],
            [
             0.6666666666666666,
             "#ed7953"
            ],
            [
             0.7777777777777778,
             "#fb9f3a"
            ],
            [
             0.8888888888888888,
             "#fdca26"
            ],
            [
             1,
             "#f0f921"
            ]
           ]
          },
          "colorway": [
           "#636efa",
           "#EF553B",
           "#00cc96",
           "#ab63fa",
           "#FFA15A",
           "#19d3f3",
           "#FF6692",
           "#B6E880",
           "#FF97FF",
           "#FECB52"
          ],
          "font": {
           "color": "#2a3f5f"
          },
          "geo": {
           "bgcolor": "white",
           "lakecolor": "white",
           "landcolor": "#E5ECF6",
           "showlakes": true,
           "showland": true,
           "subunitcolor": "white"
          },
          "hoverlabel": {
           "align": "left"
          },
          "hovermode": "closest",
          "mapbox": {
           "style": "light"
          },
          "paper_bgcolor": "white",
          "plot_bgcolor": "#E5ECF6",
          "polar": {
           "angularaxis": {
            "gridcolor": "white",
            "linecolor": "white",
            "ticks": ""
           },
           "bgcolor": "#E5ECF6",
           "radialaxis": {
            "gridcolor": "white",
            "linecolor": "white",
            "ticks": ""
           }
          },
          "scene": {
           "xaxis": {
            "backgroundcolor": "#E5ECF6",
            "gridcolor": "white",
            "gridwidth": 2,
            "linecolor": "white",
            "showbackground": true,
            "ticks": "",
            "zerolinecolor": "white"
           },
           "yaxis": {
            "backgroundcolor": "#E5ECF6",
            "gridcolor": "white",
            "gridwidth": 2,
            "linecolor": "white",
            "showbackground": true,
            "ticks": "",
            "zerolinecolor": "white"
           },
           "zaxis": {
            "backgroundcolor": "#E5ECF6",
            "gridcolor": "white",
            "gridwidth": 2,
            "linecolor": "white",
            "showbackground": true,
            "ticks": "",
            "zerolinecolor": "white"
           }
          },
          "shapedefaults": {
           "line": {
            "color": "#2a3f5f"
           }
          },
          "ternary": {
           "aaxis": {
            "gridcolor": "white",
            "linecolor": "white",
            "ticks": ""
           },
           "baxis": {
            "gridcolor": "white",
            "linecolor": "white",
            "ticks": ""
           },
           "bgcolor": "#E5ECF6",
           "caxis": {
            "gridcolor": "white",
            "linecolor": "white",
            "ticks": ""
           }
          },
          "title": {
           "x": 0.05
          },
          "xaxis": {
           "automargin": true,
           "gridcolor": "white",
           "linecolor": "white",
           "ticks": "",
           "title": {
            "standoff": 15
           },
           "zerolinecolor": "white",
           "zerolinewidth": 2
          },
          "yaxis": {
           "automargin": true,
           "gridcolor": "white",
           "linecolor": "white",
           "ticks": "",
           "title": {
            "standoff": 15
           },
           "zerolinecolor": "white",
           "zerolinewidth": 2
          }
         }
        },
        "title": {
         "text": "User Reviews for Xbox One Platform Games vs Total Sales"
        },
        "xaxis": {
         "anchor": "y",
         "domain": [
          0,
          1
         ],
         "title": {
          "text": "User Reviews"
         }
        },
        "yaxis": {
         "anchor": "x",
         "domain": [
          0,
          1
         ],
         "title": {
          "text": "Total Sales (millions)"
         }
        }
       }
      }
     },
     "metadata": {},
     "output_type": "display_data"
    }
   ],
   "source": [
    "import plotly.express as px\n",
    "\n",
    "# Filter data for Xbox One games\n",
    "xbox_one_games = games.query(\"platform == 'XOne'\")\n",
    "\n",
    "# Scatter plot with hover data\n",
    "fig = px.scatter(\n",
    "    xbox_one_games,  # Pass the entire dataframe\n",
    "    x=\"user_score\",  # x-axis: user reviews\n",
    "    y=\"total_sales\",  # y-axis: total sales\n",
    "    hover_data=[\"name\", \"na_sales\", \"jp_sales\", \"eu_sales\", \"other_sales\"],  # Additional data in hover\n",
    "    labels={\"user_score\": \"User Reviews\", \"total_sales\": \"Total Sales (millions)\"},\n",
    "    title=\"User Reviews for Xbox One Platform Games vs Total Sales\",\n",
    ")\n",
    "\n",
    "# Show the plot\n",
    "fig.show()\n"
   ]
  },
  {
   "cell_type": "markdown",
   "metadata": {},
   "source": [
    "This scatter plot shows that the User Reviews for Xbox One Platform Games does affect the number of sales of the game. However, there are a few outliers with lower scores that still outperform those with higher.\n"
   ]
  },
  {
   "cell_type": "code",
   "execution_count": 132,
   "metadata": {},
   "outputs": [
    {
     "data": {
      "application/vnd.plotly.v1+json": {
       "config": {
        "plotlyServerURL": "https://plot.ly"
       },
       "data": [
        {
         "customdata": [
          [
           "Grand Theft Auto V",
           2.81,
           0,
           2.19,
           0.47,
           7.02,
           0.98,
           9.09,
           3.96
          ],
          [
           "Call of Duty: Ghosts",
           1.88,
           0,
           0.77,
           0.27,
           4.1,
           0.38,
           3.63,
           1.25
          ],
          [
           "Battlefield 4",
           1.25,
           0,
           0.58,
           0.19,
           1.3,
           0.27,
           1.42,
           0.5
          ],
          [
           "FIFA 14",
           0.41,
           0,
           0.66,
           0.09,
           0.78,
           0.07,
           4.24,
           1.37
          ],
          [
           "NBA 2K14",
           0.7,
           0,
           0.11,
           0.09,
           1.44,
           0.04,
           0.31,
           0.32
          ],
          [
           "Madden NFL 25",
           0.67,
           0,
           0.05,
           0.08,
           1.6,
           0,
           0.03,
           0.24
          ],
          [
           "Need for Speed Rivals",
           0.46,
           0,
           0.17,
           0.07,
           0.33,
           0.05,
           0.69,
           0.19
          ],
          [
           "WWE 2K15",
           0.29,
           0,
           0.23,
           0.05,
           0.36,
           0,
           0.29,
           0.13
          ],
          [
           "The LEGO Movie Videogame",
           0.35,
           0,
           0.13,
           0.05,
           0.33,
           0.02,
           0.43,
           0.15
          ],
          [
           "Just Dance 2014",
           0.3,
           0,
           0.11,
           0.04,
           0.17,
           0,
           0.14,
           0.06
          ],
          [
           "Rayman Legends",
           0.13,
           0,
           0.18,
           0.03,
           0.15000000000000002,
           0,
           0.44000000000000006,
           0.13
          ],
          [
           "Metal Gear Solid V: Ground Zeroes",
           0.15,
           0,
           0.11,
           0.02,
           0.14,
           0.27,
           0.12,
           0.05
          ],
          [
           "Angry Birds Star Wars",
           0.11,
           0,
           0.04,
           0.02,
           0.1,
           0,
           0.14,
           0.05
          ],
          [
           "Resident Evil: Revelations 2",
           0.07,
           0,
           0.02,
           0.01,
           0,
           0.07,
           0.03,
           0.01
          ],
          [
           "Dynasty Warriors 8: Empires",
           0.04,
           0,
           0.02,
           0.01,
           0,
           0.02,
           0,
           0
          ],
          [
           "One Piece: Burning Blood",
           0.03,
           0,
           0.02,
           0.01,
           0,
           0.07,
           0.02,
           0
          ],
          [
           "Resident Evil 6",
           0.04,
           0,
           0,
           0,
           0.88,
           0.88,
           0.94,
           0.4
          ],
          [
           "Terraria",
           0,
           0,
           0.04,
           0,
           0.07,
           0.18,
           0.21000000000000002,
           0.05
          ]
         ],
         "hovertemplate": "User Reviews=%{x}<br>Total Sales (Xbox One, millions)=%{y}<br>name=%{customdata[0]}<br>na_sales_xbox=%{customdata[1]}<br>jp_sales_xbox=%{customdata[2]}<br>eu_sales_xbox=%{customdata[3]}<br>other_sales_xbox=%{customdata[4]}<br>na_sales_playstation=%{customdata[5]}<br>jp_sales_playstation=%{customdata[6]}<br>eu_sales_playstation=%{customdata[7]}<br>other_sales_playstation=%{customdata[8]}<extra></extra>",
         "legendgroup": "",
         "marker": {
          "color": "#636efa",
          "symbol": "circle"
         },
         "mode": "markers",
         "name": "",
         "orientation": "v",
         "showlegend": false,
         "type": "scatter",
         "x": [
          7.9,
          4.3,
          6.6,
          5.8,
          5.7,
          5.9,
          5.8,
          5.7,
          6.9,
          7,
          7.9,
          5.4,
          6.9,
          7.5,
          6.8,
          5.8,
          6.3,
          7.7
         ],
         "xaxis": "x",
         "y": [
          5.47,
          2.92,
          2.02,
          1.1600000000000001,
          0.8999999999999999,
          0.8,
          0.7,
          0.5700000000000001,
          0.53,
          0.44999999999999996,
          0.33999999999999997,
          0.28,
          0.16999999999999998,
          0.1,
          0.06999999999999999,
          0.060000000000000005,
          0.04,
          0.04
         ],
         "yaxis": "y"
        }
       ],
       "layout": {
        "legend": {
         "tracegroupgap": 0
        },
        "template": {
         "data": {
          "bar": [
           {
            "error_x": {
             "color": "#2a3f5f"
            },
            "error_y": {
             "color": "#2a3f5f"
            },
            "marker": {
             "line": {
              "color": "#E5ECF6",
              "width": 0.5
             },
             "pattern": {
              "fillmode": "overlay",
              "size": 10,
              "solidity": 0.2
             }
            },
            "type": "bar"
           }
          ],
          "barpolar": [
           {
            "marker": {
             "line": {
              "color": "#E5ECF6",
              "width": 0.5
             },
             "pattern": {
              "fillmode": "overlay",
              "size": 10,
              "solidity": 0.2
             }
            },
            "type": "barpolar"
           }
          ],
          "carpet": [
           {
            "aaxis": {
             "endlinecolor": "#2a3f5f",
             "gridcolor": "white",
             "linecolor": "white",
             "minorgridcolor": "white",
             "startlinecolor": "#2a3f5f"
            },
            "baxis": {
             "endlinecolor": "#2a3f5f",
             "gridcolor": "white",
             "linecolor": "white",
             "minorgridcolor": "white",
             "startlinecolor": "#2a3f5f"
            },
            "type": "carpet"
           }
          ],
          "choropleth": [
           {
            "colorbar": {
             "outlinewidth": 0,
             "ticks": ""
            },
            "type": "choropleth"
           }
          ],
          "contour": [
           {
            "colorbar": {
             "outlinewidth": 0,
             "ticks": ""
            },
            "colorscale": [
             [
              0,
              "#0d0887"
             ],
             [
              0.1111111111111111,
              "#46039f"
             ],
             [
              0.2222222222222222,
              "#7201a8"
             ],
             [
              0.3333333333333333,
              "#9c179e"
             ],
             [
              0.4444444444444444,
              "#bd3786"
             ],
             [
              0.5555555555555556,
              "#d8576b"
             ],
             [
              0.6666666666666666,
              "#ed7953"
             ],
             [
              0.7777777777777778,
              "#fb9f3a"
             ],
             [
              0.8888888888888888,
              "#fdca26"
             ],
             [
              1,
              "#f0f921"
             ]
            ],
            "type": "contour"
           }
          ],
          "contourcarpet": [
           {
            "colorbar": {
             "outlinewidth": 0,
             "ticks": ""
            },
            "type": "contourcarpet"
           }
          ],
          "heatmap": [
           {
            "colorbar": {
             "outlinewidth": 0,
             "ticks": ""
            },
            "colorscale": [
             [
              0,
              "#0d0887"
             ],
             [
              0.1111111111111111,
              "#46039f"
             ],
             [
              0.2222222222222222,
              "#7201a8"
             ],
             [
              0.3333333333333333,
              "#9c179e"
             ],
             [
              0.4444444444444444,
              "#bd3786"
             ],
             [
              0.5555555555555556,
              "#d8576b"
             ],
             [
              0.6666666666666666,
              "#ed7953"
             ],
             [
              0.7777777777777778,
              "#fb9f3a"
             ],
             [
              0.8888888888888888,
              "#fdca26"
             ],
             [
              1,
              "#f0f921"
             ]
            ],
            "type": "heatmap"
           }
          ],
          "heatmapgl": [
           {
            "colorbar": {
             "outlinewidth": 0,
             "ticks": ""
            },
            "colorscale": [
             [
              0,
              "#0d0887"
             ],
             [
              0.1111111111111111,
              "#46039f"
             ],
             [
              0.2222222222222222,
              "#7201a8"
             ],
             [
              0.3333333333333333,
              "#9c179e"
             ],
             [
              0.4444444444444444,
              "#bd3786"
             ],
             [
              0.5555555555555556,
              "#d8576b"
             ],
             [
              0.6666666666666666,
              "#ed7953"
             ],
             [
              0.7777777777777778,
              "#fb9f3a"
             ],
             [
              0.8888888888888888,
              "#fdca26"
             ],
             [
              1,
              "#f0f921"
             ]
            ],
            "type": "heatmapgl"
           }
          ],
          "histogram": [
           {
            "marker": {
             "pattern": {
              "fillmode": "overlay",
              "size": 10,
              "solidity": 0.2
             }
            },
            "type": "histogram"
           }
          ],
          "histogram2d": [
           {
            "colorbar": {
             "outlinewidth": 0,
             "ticks": ""
            },
            "colorscale": [
             [
              0,
              "#0d0887"
             ],
             [
              0.1111111111111111,
              "#46039f"
             ],
             [
              0.2222222222222222,
              "#7201a8"
             ],
             [
              0.3333333333333333,
              "#9c179e"
             ],
             [
              0.4444444444444444,
              "#bd3786"
             ],
             [
              0.5555555555555556,
              "#d8576b"
             ],
             [
              0.6666666666666666,
              "#ed7953"
             ],
             [
              0.7777777777777778,
              "#fb9f3a"
             ],
             [
              0.8888888888888888,
              "#fdca26"
             ],
             [
              1,
              "#f0f921"
             ]
            ],
            "type": "histogram2d"
           }
          ],
          "histogram2dcontour": [
           {
            "colorbar": {
             "outlinewidth": 0,
             "ticks": ""
            },
            "colorscale": [
             [
              0,
              "#0d0887"
             ],
             [
              0.1111111111111111,
              "#46039f"
             ],
             [
              0.2222222222222222,
              "#7201a8"
             ],
             [
              0.3333333333333333,
              "#9c179e"
             ],
             [
              0.4444444444444444,
              "#bd3786"
             ],
             [
              0.5555555555555556,
              "#d8576b"
             ],
             [
              0.6666666666666666,
              "#ed7953"
             ],
             [
              0.7777777777777778,
              "#fb9f3a"
             ],
             [
              0.8888888888888888,
              "#fdca26"
             ],
             [
              1,
              "#f0f921"
             ]
            ],
            "type": "histogram2dcontour"
           }
          ],
          "mesh3d": [
           {
            "colorbar": {
             "outlinewidth": 0,
             "ticks": ""
            },
            "type": "mesh3d"
           }
          ],
          "parcoords": [
           {
            "line": {
             "colorbar": {
              "outlinewidth": 0,
              "ticks": ""
             }
            },
            "type": "parcoords"
           }
          ],
          "pie": [
           {
            "automargin": true,
            "type": "pie"
           }
          ],
          "scatter": [
           {
            "fillpattern": {
             "fillmode": "overlay",
             "size": 10,
             "solidity": 0.2
            },
            "type": "scatter"
           }
          ],
          "scatter3d": [
           {
            "line": {
             "colorbar": {
              "outlinewidth": 0,
              "ticks": ""
             }
            },
            "marker": {
             "colorbar": {
              "outlinewidth": 0,
              "ticks": ""
             }
            },
            "type": "scatter3d"
           }
          ],
          "scattercarpet": [
           {
            "marker": {
             "colorbar": {
              "outlinewidth": 0,
              "ticks": ""
             }
            },
            "type": "scattercarpet"
           }
          ],
          "scattergeo": [
           {
            "marker": {
             "colorbar": {
              "outlinewidth": 0,
              "ticks": ""
             }
            },
            "type": "scattergeo"
           }
          ],
          "scattergl": [
           {
            "marker": {
             "colorbar": {
              "outlinewidth": 0,
              "ticks": ""
             }
            },
            "type": "scattergl"
           }
          ],
          "scattermapbox": [
           {
            "marker": {
             "colorbar": {
              "outlinewidth": 0,
              "ticks": ""
             }
            },
            "type": "scattermapbox"
           }
          ],
          "scatterpolar": [
           {
            "marker": {
             "colorbar": {
              "outlinewidth": 0,
              "ticks": ""
             }
            },
            "type": "scatterpolar"
           }
          ],
          "scatterpolargl": [
           {
            "marker": {
             "colorbar": {
              "outlinewidth": 0,
              "ticks": ""
             }
            },
            "type": "scatterpolargl"
           }
          ],
          "scatterternary": [
           {
            "marker": {
             "colorbar": {
              "outlinewidth": 0,
              "ticks": ""
             }
            },
            "type": "scatterternary"
           }
          ],
          "surface": [
           {
            "colorbar": {
             "outlinewidth": 0,
             "ticks": ""
            },
            "colorscale": [
             [
              0,
              "#0d0887"
             ],
             [
              0.1111111111111111,
              "#46039f"
             ],
             [
              0.2222222222222222,
              "#7201a8"
             ],
             [
              0.3333333333333333,
              "#9c179e"
             ],
             [
              0.4444444444444444,
              "#bd3786"
             ],
             [
              0.5555555555555556,
              "#d8576b"
             ],
             [
              0.6666666666666666,
              "#ed7953"
             ],
             [
              0.7777777777777778,
              "#fb9f3a"
             ],
             [
              0.8888888888888888,
              "#fdca26"
             ],
             [
              1,
              "#f0f921"
             ]
            ],
            "type": "surface"
           }
          ],
          "table": [
           {
            "cells": {
             "fill": {
              "color": "#EBF0F8"
             },
             "line": {
              "color": "white"
             }
            },
            "header": {
             "fill": {
              "color": "#C8D4E3"
             },
             "line": {
              "color": "white"
             }
            },
            "type": "table"
           }
          ]
         },
         "layout": {
          "annotationdefaults": {
           "arrowcolor": "#2a3f5f",
           "arrowhead": 0,
           "arrowwidth": 1
          },
          "autotypenumbers": "strict",
          "coloraxis": {
           "colorbar": {
            "outlinewidth": 0,
            "ticks": ""
           }
          },
          "colorscale": {
           "diverging": [
            [
             0,
             "#8e0152"
            ],
            [
             0.1,
             "#c51b7d"
            ],
            [
             0.2,
             "#de77ae"
            ],
            [
             0.3,
             "#f1b6da"
            ],
            [
             0.4,
             "#fde0ef"
            ],
            [
             0.5,
             "#f7f7f7"
            ],
            [
             0.6,
             "#e6f5d0"
            ],
            [
             0.7,
             "#b8e186"
            ],
            [
             0.8,
             "#7fbc41"
            ],
            [
             0.9,
             "#4d9221"
            ],
            [
             1,
             "#276419"
            ]
           ],
           "sequential": [
            [
             0,
             "#0d0887"
            ],
            [
             0.1111111111111111,
             "#46039f"
            ],
            [
             0.2222222222222222,
             "#7201a8"
            ],
            [
             0.3333333333333333,
             "#9c179e"
            ],
            [
             0.4444444444444444,
             "#bd3786"
            ],
            [
             0.5555555555555556,
             "#d8576b"
            ],
            [
             0.6666666666666666,
             "#ed7953"
            ],
            [
             0.7777777777777778,
             "#fb9f3a"
            ],
            [
             0.8888888888888888,
             "#fdca26"
            ],
            [
             1,
             "#f0f921"
            ]
           ],
           "sequentialminus": [
            [
             0,
             "#0d0887"
            ],
            [
             0.1111111111111111,
             "#46039f"
            ],
            [
             0.2222222222222222,
             "#7201a8"
            ],
            [
             0.3333333333333333,
             "#9c179e"
            ],
            [
             0.4444444444444444,
             "#bd3786"
            ],
            [
             0.5555555555555556,
             "#d8576b"
            ],
            [
             0.6666666666666666,
             "#ed7953"
            ],
            [
             0.7777777777777778,
             "#fb9f3a"
            ],
            [
             0.8888888888888888,
             "#fdca26"
            ],
            [
             1,
             "#f0f921"
            ]
           ]
          },
          "colorway": [
           "#636efa",
           "#EF553B",
           "#00cc96",
           "#ab63fa",
           "#FFA15A",
           "#19d3f3",
           "#FF6692",
           "#B6E880",
           "#FF97FF",
           "#FECB52"
          ],
          "font": {
           "color": "#2a3f5f"
          },
          "geo": {
           "bgcolor": "white",
           "lakecolor": "white",
           "landcolor": "#E5ECF6",
           "showlakes": true,
           "showland": true,
           "subunitcolor": "white"
          },
          "hoverlabel": {
           "align": "left"
          },
          "hovermode": "closest",
          "mapbox": {
           "style": "light"
          },
          "paper_bgcolor": "white",
          "plot_bgcolor": "#E5ECF6",
          "polar": {
           "angularaxis": {
            "gridcolor": "white",
            "linecolor": "white",
            "ticks": ""
           },
           "bgcolor": "#E5ECF6",
           "radialaxis": {
            "gridcolor": "white",
            "linecolor": "white",
            "ticks": ""
           }
          },
          "scene": {
           "xaxis": {
            "backgroundcolor": "#E5ECF6",
            "gridcolor": "white",
            "gridwidth": 2,
            "linecolor": "white",
            "showbackground": true,
            "ticks": "",
            "zerolinecolor": "white"
           },
           "yaxis": {
            "backgroundcolor": "#E5ECF6",
            "gridcolor": "white",
            "gridwidth": 2,
            "linecolor": "white",
            "showbackground": true,
            "ticks": "",
            "zerolinecolor": "white"
           },
           "zaxis": {
            "backgroundcolor": "#E5ECF6",
            "gridcolor": "white",
            "gridwidth": 2,
            "linecolor": "white",
            "showbackground": true,
            "ticks": "",
            "zerolinecolor": "white"
           }
          },
          "shapedefaults": {
           "line": {
            "color": "#2a3f5f"
           }
          },
          "ternary": {
           "aaxis": {
            "gridcolor": "white",
            "linecolor": "white",
            "ticks": ""
           },
           "baxis": {
            "gridcolor": "white",
            "linecolor": "white",
            "ticks": ""
           },
           "bgcolor": "#E5ECF6",
           "caxis": {
            "gridcolor": "white",
            "linecolor": "white",
            "ticks": ""
           }
          },
          "title": {
           "x": 0.05
          },
          "xaxis": {
           "automargin": true,
           "gridcolor": "white",
           "linecolor": "white",
           "ticks": "",
           "title": {
            "standoff": 15
           },
           "zerolinecolor": "white",
           "zerolinewidth": 2
          },
          "yaxis": {
           "automargin": true,
           "gridcolor": "white",
           "linecolor": "white",
           "ticks": "",
           "title": {
            "standoff": 15
           },
           "zerolinecolor": "white",
           "zerolinewidth": 2
          }
         }
        },
        "title": {
         "text": "User Reviews for Xbox One vs PlayStation Platform Games with Total Sales Comparison"
        },
        "xaxis": {
         "anchor": "y",
         "domain": [
          0,
          1
         ],
         "title": {
          "text": "User Reviews"
         }
        },
        "yaxis": {
         "anchor": "x",
         "domain": [
          0,
          1
         ],
         "title": {
          "text": "Total Sales (Xbox One, millions)"
         }
        }
       }
      }
     },
     "metadata": {},
     "output_type": "display_data"
    }
   ],
   "source": [
    "import plotly.express as px\n",
    "\n",
    "# Filter data for Xbox One and PlayStation games\n",
    "xbox_games = games.query(\"platform == 'XOne'\")\n",
    "playstation_games = games.query(\"platform in ['PS', 'PS2', 'PS3', 'PSV']\")\n",
    "\n",
    "# Group by 'name' to get total sales across platforms for the same game\n",
    "xbox_sales_by_game = xbox_games.groupby(\"name\")[[\"na_sales\", \"jp_sales\", \"eu_sales\", \"other_sales\", \"total_sales\"]].sum()\n",
    "playstation_sales_by_game = playstation_games.groupby(\"name\")[[\"na_sales\", \"jp_sales\", \"eu_sales\", \"other_sales\", \"total_sales\"]].sum()\n",
    "\n",
    "# Merge Xbox and PlayStation sales data by game name\n",
    "merged_sales = xbox_sales_by_game.merge(playstation_sales_by_game, on=\"name\", suffixes=('_xbox', '_playstation'))\n",
    "\n",
    "# Merge back to the original Xbox dataset for plotting\n",
    "xbox_games = xbox_games.merge(merged_sales, on=\"name\")\n",
    "\n",
    "# Scatter plot with hover data\n",
    "fig = px.scatter(\n",
    "    xbox_games,  # Pass the merged dataframe\n",
    "    x=\"user_score\",  # x-axis: user reviews\n",
    "    y=\"total_sales_xbox\",  # y-axis: total sales for Xbox One\n",
    "    hover_data=[\"name\", \"na_sales_xbox\", \"jp_sales_xbox\", \"eu_sales_xbox\", \"other_sales_xbox\",\n",
    "                \"na_sales_playstation\", \"jp_sales_playstation\", \"eu_sales_playstation\", \"other_sales_playstation\"],  # Additional data in hover\n",
    "    labels={\"user_score\": \"User Reviews\", \"total_sales_xbox\": \"Total Sales (Xbox One, millions)\"},\n",
    "    title=\"User Reviews for Xbox One vs PlayStation Platform Games with Total Sales Comparison\",\n",
    ")\n",
    "\n",
    "# Show the plot\n",
    "fig.show()\n"
   ]
  },
  {
   "cell_type": "markdown",
   "metadata": {},
   "source": [
    "This scatter plot shows games that go accross the Xbox and Playstation Platforms. This reflects that while there are some games that cross over platforms, each platform has most of the games available as exlusive. However, based on user score, some games had high sales on both platforms."
   ]
  },
  {
   "cell_type": "markdown",
   "metadata": {},
   "source": [
    "**Step 4**\n",
    "\n",
    "Create a user profile for each region\n",
    "\n",
    "For each region (NA, EU, JP), determine:\n",
    "\n",
    "The top five platforms. Describe variations in their market shares from region to region.\n",
    "The top five genres. Explain the difference.\n",
    "Do ESRB ratings affect sales in individual regions?"
   ]
  },
  {
   "cell_type": "code",
   "execution_count": 133,
   "metadata": {},
   "outputs": [
    {
     "data": {
      "text/plain": [
       "'Top 5 User Profile by Region:'"
      ]
     },
     "metadata": {},
     "output_type": "display_data"
    },
    {
     "data": {
      "text/html": [
       "<div>\n",
       "<style scoped>\n",
       "    .dataframe tbody tr th:only-of-type {\n",
       "        vertical-align: middle;\n",
       "    }\n",
       "\n",
       "    .dataframe tbody tr th {\n",
       "        vertical-align: top;\n",
       "    }\n",
       "\n",
       "    .dataframe thead th {\n",
       "        text-align: right;\n",
       "    }\n",
       "</style>\n",
       "<table border=\"1\" class=\"dataframe\">\n",
       "  <thead>\n",
       "    <tr style=\"text-align: right;\">\n",
       "      <th></th>\n",
       "      <th>NA Sales (%)</th>\n",
       "      <th>EU Sales (%)</th>\n",
       "      <th>JP Sales (%)</th>\n",
       "    </tr>\n",
       "    <tr>\n",
       "      <th>platform</th>\n",
       "      <th></th>\n",
       "      <th></th>\n",
       "      <th></th>\n",
       "    </tr>\n",
       "  </thead>\n",
       "  <tbody>\n",
       "    <tr>\n",
       "      <th>X360</th>\n",
       "      <td>28.62</td>\n",
       "      <td>21.72</td>\n",
       "      <td>0.00</td>\n",
       "    </tr>\n",
       "    <tr>\n",
       "      <th>PS2</th>\n",
       "      <td>25.36</td>\n",
       "      <td>23.65</td>\n",
       "      <td>24.84</td>\n",
       "    </tr>\n",
       "    <tr>\n",
       "      <th>Wii</th>\n",
       "      <td>18.40</td>\n",
       "      <td>18.92</td>\n",
       "      <td>17.16</td>\n",
       "    </tr>\n",
       "    <tr>\n",
       "      <th>PS3</th>\n",
       "      <td>18.33</td>\n",
       "      <td>25.35</td>\n",
       "      <td>17.86</td>\n",
       "    </tr>\n",
       "    <tr>\n",
       "      <th>DS</th>\n",
       "      <td>9.30</td>\n",
       "      <td>0.00</td>\n",
       "      <td>27.41</td>\n",
       "    </tr>\n",
       "    <tr>\n",
       "      <th>PS4</th>\n",
       "      <td>0.00</td>\n",
       "      <td>10.36</td>\n",
       "      <td>0.00</td>\n",
       "    </tr>\n",
       "    <tr>\n",
       "      <th>PS</th>\n",
       "      <td>0.00</td>\n",
       "      <td>0.00</td>\n",
       "      <td>12.73</td>\n",
       "    </tr>\n",
       "  </tbody>\n",
       "</table>\n",
       "</div>"
      ],
      "text/plain": [
       "          NA Sales (%)  EU Sales (%)  JP Sales (%)\n",
       "platform                                          \n",
       "X360             28.62         21.72          0.00\n",
       "PS2              25.36         23.65         24.84\n",
       "Wii              18.40         18.92         17.16\n",
       "PS3              18.33         25.35         17.86\n",
       "DS                9.30          0.00         27.41\n",
       "PS4               0.00         10.36          0.00\n",
       "PS                0.00          0.00         12.73"
      ]
     },
     "metadata": {},
     "output_type": "display_data"
    }
   ],
   "source": [
    "# NA user profile - top 5 platforms\n",
    "na_user_profile = games.groupby(\"platform\")[[\"na_sales\"]].sum().sort_values(by=\"na_sales\", ascending=False).head(5)\n",
    "na_user_profile = na_user_profile / na_user_profile.sum() * 100  # Convert to percentage\n",
    "na_user_profile = na_user_profile.round(2)\n",
    "\n",
    "# EU user profile - top 5 platforms\n",
    "eu_user_profile = games.groupby(\"platform\")[[\"eu_sales\"]].sum().sort_values(by=\"eu_sales\", ascending=False).head(5)\n",
    "eu_user_profile = eu_user_profile / eu_user_profile.sum() * 100  # Convert to percentage\n",
    "eu_user_profile = eu_user_profile.round(2)\n",
    "\n",
    "# JP user profile - top 5 platforms\n",
    "jp_user_profile = games.groupby(\"platform\")[[\"jp_sales\"]].sum().sort_values(by=\"jp_sales\", ascending=False).head(5)\n",
    "jp_user_profile = jp_user_profile / jp_user_profile.sum() * 100  # Convert to percentage\n",
    "jp_user_profile = jp_user_profile.round(2)\n",
    "\n",
    "# Concatenate the top 5 user profiles into a single DataFrame\n",
    "user_profiles = pd.concat([na_user_profile, eu_user_profile, jp_user_profile], axis=1)\n",
    "\n",
    "# replace NaN values with 0\n",
    "user_profiles = user_profiles.fillna(0)\n",
    "\n",
    "# Rename the columns for clarity\n",
    "user_profiles.columns = ['NA Sales (%)', 'EU Sales (%)', 'JP Sales (%)']\n",
    "\n",
    "# Display the results\n",
    "display(\"Top 5 User Profile by Region:\")\n",
    "display(user_profiles)\n"
   ]
  },
  {
   "cell_type": "markdown",
   "metadata": {},
   "source": [
    "This shows what the top 5 platforms are per region. (non top 5 are represented as a 0)"
   ]
  },
  {
   "cell_type": "code",
   "execution_count": 134,
   "metadata": {},
   "outputs": [
    {
     "data": {
      "text/plain": [
       "'Rating Distribution by Region: (in millions)'"
      ]
     },
     "metadata": {},
     "output_type": "display_data"
    },
    {
     "data": {
      "text/html": [
       "<div>\n",
       "<style scoped>\n",
       "    .dataframe tbody tr th:only-of-type {\n",
       "        vertical-align: middle;\n",
       "    }\n",
       "\n",
       "    .dataframe tbody tr th {\n",
       "        vertical-align: top;\n",
       "    }\n",
       "\n",
       "    .dataframe thead th {\n",
       "        text-align: right;\n",
       "    }\n",
       "</style>\n",
       "<table border=\"1\" class=\"dataframe\">\n",
       "  <thead>\n",
       "    <tr style=\"text-align: right;\">\n",
       "      <th></th>\n",
       "      <th>na_sales</th>\n",
       "      <th>eu_sales</th>\n",
       "      <th>jp_sales</th>\n",
       "    </tr>\n",
       "    <tr>\n",
       "      <th>rating</th>\n",
       "      <th></th>\n",
       "      <th></th>\n",
       "      <th></th>\n",
       "    </tr>\n",
       "  </thead>\n",
       "  <tbody>\n",
       "    <tr>\n",
       "      <th>E</th>\n",
       "      <td>986.02</td>\n",
       "      <td>590.78</td>\n",
       "      <td>190.67</td>\n",
       "    </tr>\n",
       "    <tr>\n",
       "      <th>M</th>\n",
       "      <td>724.61</td>\n",
       "      <td>467.07</td>\n",
       "      <td>62.28</td>\n",
       "    </tr>\n",
       "    <tr>\n",
       "      <th>T</th>\n",
       "      <td>694.23</td>\n",
       "      <td>396.82</td>\n",
       "      <td>144.66</td>\n",
       "    </tr>\n",
       "    <tr>\n",
       "      <th>E10+</th>\n",
       "      <td>286.03</td>\n",
       "      <td>155.94</td>\n",
       "      <td>38.81</td>\n",
       "    </tr>\n",
       "    <tr>\n",
       "      <th>AO</th>\n",
       "      <td>1.26</td>\n",
       "      <td>0.61</td>\n",
       "      <td>0.00</td>\n",
       "    </tr>\n",
       "    <tr>\n",
       "      <th>K-A</th>\n",
       "      <td>0.26</td>\n",
       "      <td>0.16</td>\n",
       "      <td>1.46</td>\n",
       "    </tr>\n",
       "    <tr>\n",
       "      <th>RP</th>\n",
       "      <td>0.00</td>\n",
       "      <td>0.03</td>\n",
       "      <td>0.00</td>\n",
       "    </tr>\n",
       "  </tbody>\n",
       "</table>\n",
       "</div>"
      ],
      "text/plain": [
       "        na_sales  eu_sales  jp_sales\n",
       "rating                              \n",
       "E         986.02    590.78    190.67\n",
       "M         724.61    467.07     62.28\n",
       "T         694.23    396.82    144.66\n",
       "E10+      286.03    155.94     38.81\n",
       "AO          1.26      0.61      0.00\n",
       "K-A         0.26      0.16      1.46\n",
       "RP          0.00      0.03      0.00"
      ]
     },
     "metadata": {},
     "output_type": "display_data"
    }
   ],
   "source": [
    "# ESRB rating distribution per region\n",
    "na_rating_distribution = games.groupby(\"rating\")[\"na_sales\"].sum().sort_values(ascending=False)\n",
    "eu_rating_distribution = games.groupby(\"rating\")[\"eu_sales\"].sum().sort_values(ascending=False)\n",
    "jp_rating_distribution = games.groupby(\"rating\")[\"jp_sales\"].sum().sort_values(ascending=False)\n",
    "\n",
    "# concatenate the rating distributions into a single DataFrame\n",
    "rating_distribution = pd.concat([na_rating_distribution, eu_rating_distribution, jp_rating_distribution], axis=1)\n",
    "\n",
    "\n",
    "# Display the results\n",
    "display(\"Rating Distribution by Region: (in millions)\")\n",
    "display(rating_distribution)\n",
    "\n"
   ]
  },
  {
   "cell_type": "markdown",
   "metadata": {},
   "source": [
    "This data does show that ESRB rating does effect the total sales of a game, with ESRB rating of \"E\" providing the most sales of all ratings"
   ]
  },
  {
   "cell_type": "markdown",
   "metadata": {},
   "source": [
    "**Step 5. Test the following hypotheses:**\n",
    "\n",
    "—Average user ratings of the Xbox One and PC platforms are the same. \n",
    "\n",
    "—Average user ratings for the Action and Sports genres are different.\n",
    "\n",
    "Set the alpha threshold value yourself."
   ]
  },
  {
   "cell_type": "code",
   "execution_count": 135,
   "metadata": {},
   "outputs": [
    {
     "name": "stdout",
     "output_type": "stream",
     "text": [
      "Hypothesis 1 (Platform Comparison): Reject the null hypothesis: The average user ratings of Xbox One and PC platforms are different.\n",
      "Hypothesis 2 (Genre Comparison): Fail to reject the null hypothesis: The average user ratings for Action and Sports genres are the same.\n"
     ]
    }
   ],
   "source": [
    "import scipy.stats as stats\n",
    "\n",
    "# Set alpha value for the tests\n",
    "alpha = 0.05\n",
    "\n",
    "# Test 1: Compare average user ratings of Xbox One and PC platforms\n",
    "xbox_one_ratings = games.query(\"platform == 'XOne'\")[\"user_score\"].dropna()\n",
    "pc_ratings = games.query(\"platform == 'PC'\")[\"user_score\"].dropna()\n",
    "\n",
    "# Perform t-test for platform comparison\n",
    "t_stat_platform, p_value_platform = stats.ttest_ind(xbox_one_ratings, pc_ratings)\n",
    "\n",
    "# Display results for hypothesis 1\n",
    "if p_value_platform < alpha:\n",
    "    result_platform = \"Reject the null hypothesis: The average user ratings of Xbox One and PC platforms are different.\"\n",
    "else:\n",
    "    result_platform = \"Fail to reject the null hypothesis: The average user ratings of Xbox One and PC platforms are the same.\"\n",
    "\n",
    "# Test 2: Compare average user ratings for Action and Sports genres\n",
    "action_ratings = games.query(\"genre == 'Action'\")[\"user_score\"].dropna()\n",
    "sports_ratings = games.query(\"genre == 'Sports'\")[\"user_score\"].dropna()\n",
    "\n",
    "# Perform t-test for genre comparison\n",
    "t_stat_genre, p_value_genre = stats.ttest_ind(action_ratings, sports_ratings)\n",
    "\n",
    "# Display results for hypothesis 2\n",
    "if p_value_genre < alpha:\n",
    "    result_genre = \"Reject the null hypothesis: The average user ratings for Action and Sports genres are different.\"\n",
    "else:\n",
    "    result_genre = \"Fail to reject the null hypothesis: The average user ratings for Action and Sports genres are the same.\"\n",
    "\n",
    "# Print the results\n",
    "print(\"Hypothesis 1 (Platform Comparison):\", result_platform)\n",
    "print(\"Hypothesis 2 (Genre Comparison):\", result_genre)\n"
   ]
  },
  {
   "cell_type": "markdown",
   "metadata": {},
   "source": [
    "**Conclusion**\n",
    "\n",
    "In this project, we analyzed video game sales data across different platforms, genres, and regions to identify trends and insights. The dataset contains information on game sales in North America (NA), Europe (EU), Japan (JP), and other regions, along with user and critic ratings.\n",
    "\n",
    "The key objectives were:\n",
    "\n",
    "* To identify the most popular platforms and genres across different regions.\n",
    "* To assess whether user ratings influence total sales.\n",
    "* To test hypotheses about user ratings across platforms and genres.\n"
   ]
  },
  {
   "cell_type": "markdown",
   "metadata": {},
   "source": [
    "**Sales Trends by Platform and Region**\n",
    "\n",
    "The most popular platforms vary by region:\n",
    "\n",
    "* North America (NA): Xbox 360 and PlayStation 2 dominate the market.\n",
    "* Europe (EU): PlayStation 2 and PlayStation 4 have the highest sales.\n",
    "* Japan (JP): Nintendo platforms, such as DS and Wii, outperform Xbox and PlayStation.\n",
    "* PlayStation platforms tend to perform well globally, while Xbox consoles are more dominant in NA."
   ]
  },
  {
   "cell_type": "markdown",
   "metadata": {},
   "source": [
    "**Sales Trends by Genre**\n",
    "\n",
    "\n",
    "* Action and Shooter games have the highest sales in NA and EU, likely due to popular franchises like Call of Duty and Grand Theft Auto.\n",
    "* RPGs dominate in Japan, reflecting the strong market for games from companies like Nintendo and Square Enix.\n",
    "* Sports games (e.g., FIFA and NBA 2K) are popular worldwide, especially in NA and EU."
   ]
  },
  {
   "cell_type": "markdown",
   "metadata": {},
   "source": [
    "**ESRB Ratings and Sales**\n",
    "\n",
    "\n",
    "* Mature (M) rated games tend to have higher sales in NA and EU, where shooter and action games are popular.\n",
    "* E (Everyone) rated games sell well globally, especially in Japan, where family-friendly and handheld games dominate.\n",
    "* Teen (T) rated games have a more balanced sales distribution."
   ]
  },
  {
   "cell_type": "markdown",
   "metadata": {},
   "source": [
    "**Hypothesis results**\n",
    "\n",
    "Hypothesis 1 states the average user ratings of Xbox One and PC platforms are not the same. This hypothesis was to find if the average user ratings were the same accross the platforms, we found that they are not. This means that users of each platform have different preferences in games or gameplay.\n",
    "\n",
    "Hypothesis 2 states that the average user ratings for genres(action and sports specifically) are the not the same. This means the hypothesis that average user ratings are the same between genres failed and represents that users have prefered genres.\n",
    "\n",
    "We used an alpha of 0.5 since it was the standard alpha used for a Null hypothesis. It represents up to only a 5% probablity of an error."
   ]
  },
  {
   "cell_type": "markdown",
   "metadata": {},
   "source": [
    "**Limitations and Considerations**\n",
    "\n",
    "\n",
    "* Incomplete 2016 Data: Sales and ratings for 2016 may not be fully recorded, impacting trend analysis.\n",
    "* Missing User Scores: Some games have missing ratings, which could affect hypothesis testing accuracy.\n",
    "* Regional Preferences: Cultural differences in gaming preferences impact platform and genre popularity."
   ]
  },
  {
   "cell_type": "markdown",
   "metadata": {},
   "source": [
    "**Recommendations for Marketing in 2017**\n",
    "\n",
    "Based on the analysis of platform sales, genre trends, user ratings, and regional preferences, we can make data-driven recommendations for game development and marketing strategies for 2017."
   ]
  },
  {
   "cell_type": "markdown",
   "metadata": {},
   "source": [
    "**Platform Strategy**\n",
    "\n",
    "\n",
    "* Target PlayStation 4 and Xbox One for Western Markets\n",
    "\n",
    "Why? PlayStation 4 and Xbox One continue to dominate North America (NA) and Europe (EU).\n",
    "Recommendation: Focus on AAA game releases, optimized graphics, and online multiplayer experiences for these platforms.\n",
    "* Prioritize Nintendo Platforms for Japan\n",
    "\n",
    "Why? Nintendo's platforms (e.g., Wii, DS, and 3DS) are the most successful in Japan, and with the Nintendo Switch launching in 2017, the trend is expected to continue.\n",
    "Recommendation: Market more RPGs, adventure games, and handheld-friendly titles in Japan.\n",
    "* Reduce Investment in Older Platforms\n",
    "\n",
    "Why? Sales for PS2, Xbox 360, and Wii are declining rapidly.\n",
    "Recommendation: Shift development and marketing budgets toward next-gen consoles (PS4, Xbox One, Switch) and PC."
   ]
  },
  {
   "cell_type": "markdown",
   "metadata": {},
   "source": [
    "**Genre Strategy**\n",
    "\n",
    "* Invest in Action, Shooter, and Sports Games in NA & EU\n",
    "\n",
    "Why? These genres dominate sales in North America and Europe.\n",
    "Recommendation:\n",
    "Market first-person shooters (FPS) like Call of Duty & Battlefield with multiplayer engagement strategies.\n",
    "Continue investment in Sports franchises (FIFA, Madden, NBA 2K).\n",
    "* Focus on RPGs and Adventure Games in Japan\n",
    "\n",
    "Why? The Japanese market favors RPGs and story-driven games over shooters.\n",
    "Recommendation:\n",
    "Invest in anime-style RPGs, turn-based battle systems, and story-driven single-player games.\n",
    "Partner with Nintendo and PlayStation for exclusive RPG titles.\n"
   ]
  },
  {
   "cell_type": "markdown",
   "metadata": {},
   "source": [
    "**ESRB Rating Strategy**\n",
    "\n",
    "* Market More Mature (M) Games in NA & EU\n",
    "\n",
    "Why? M-rated games generate the highest revenue in Western markets, especially in the Action and Shooter genres.\n",
    "Recommendation:\n",
    "Focus marketing on gamers aged 18-35, emphasizing realism, competition, and online features.\n",
    "Use eSports sponsorships, Twitch, and influencer marketing to boost visibility.\n",
    "* Market More Family-Friendly (E) Games in Japan\n",
    "\n",
    "Why? E-rated games dominate Japanese sales, with a preference for Nintendo titles and handheld gaming.\n",
    "Recommendation:\n",
    "Focus on casual and portable games for handheld devices (Switch, 3DS).\n",
    "Collaborate with Japanese publishers (e.g., Nintendo, Bandai Namco) for localization and anime-themed adaptations.\n"
   ]
  },
  {
   "cell_type": "markdown",
   "metadata": {},
   "source": [
    "**Key Takeaways for 2017**\n",
    "\n",
    "* Prioritize PS4, Xbox One, and Nintendo Switch – Older platforms are fading.\n",
    "* Invest in Action, Shooter, and Sports games for NA & EU – Market through eSports and online play.\n",
    "* Focus on RPGs and Family-friendly games for Japan – Nintendo and handheld gaming dominate.\n",
    "* Leverage influencers and streaming platforms – eSports, Twitch, and YouTube are essential for engagement.\n",
    "* Monetize through DLCs, in-game purchases, and live services – Long-term player retention is key."
   ]
  },
  {
   "cell_type": "markdown",
   "metadata": {},
   "source": [
    "**Final Recommendation:**\n",
    "* For NA & EU:\n",
    "\n",
    "Develop multiplayer shooters, action-adventure games, and sports titles for PS4 and Xbox One.\n",
    "Use eSports partnerships and Twitch marketing for promotions.\n",
    "* For Japan:\n",
    "\n",
    "Focus on RPGs and handheld-friendly games for Nintendo Switch and 3DS.\n",
    "Target anime and mobile gaming markets with gacha mechanics and localized content.\n",
    "By following these strategies, we can maximize sales and market penetration in 2017!"
   ]
  }
 ],
 "metadata": {
  "kernelspec": {
   "display_name": "base",
   "language": "python",
   "name": "python3"
  },
  "language_info": {
   "codemirror_mode": {
    "name": "ipython",
    "version": 3
   },
   "file_extension": ".py",
   "mimetype": "text/x-python",
   "name": "python",
   "nbconvert_exporter": "python",
   "pygments_lexer": "ipython3",
   "version": "3.12.7"
  }
 },
 "nbformat": 4,
 "nbformat_minor": 2
}
